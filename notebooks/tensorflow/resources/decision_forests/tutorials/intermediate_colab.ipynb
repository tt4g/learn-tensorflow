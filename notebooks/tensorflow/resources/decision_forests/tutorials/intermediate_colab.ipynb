{
 "cells": [
  {
   "cell_type": "code",
   "execution_count": 1,
   "metadata": {
    "cellView": "form",
    "execution": {
     "iopub.execute_input": "2021-11-08T12:11:47.599717Z",
     "iopub.status.busy": "2021-11-08T12:11:47.599077Z",
     "iopub.status.idle": "2021-11-08T12:11:47.601825Z",
     "shell.execute_reply": "2021-11-08T12:11:47.601286Z"
    },
    "id": "tuOe1ymfHZPu"
   },
   "outputs": [],
   "source": [
    "#@title Licensed under the Apache License, Version 2.0 (the \"License\");\n",
    "# you may not use this file except in compliance with the License.\n",
    "# You may obtain a copy of the License at\n",
    "#\n",
    "# https://www.apache.org/licenses/LICENSE-2.0\n",
    "#\n",
    "# Unless required by applicable law or agreed to in writing, software\n",
    "# distributed under the License is distributed on an \"AS IS\" BASIS,\n",
    "# WITHOUT WARRANTIES OR CONDITIONS OF ANY KIND, either express or implied.\n",
    "# See the License for the specific language governing permissions and\n",
    "# limitations under the License."
   ]
  },
  {
   "cell_type": "markdown",
   "metadata": {
    "id": "8yo62ffS5TF5"
   },
   "source": [
    "# Using text and neural network features\n",
    "\n",
    "Welcome to the **Intermediate Colab** for **TensorFlow Decision Forests**\n",
    "(**TF-DF**).\n",
    "In this colab, you will learn about some more advanced capabilities of\n",
    "**TF-DF**, including how to deal with natural language features.\n",
    "\n",
    "This colab assumes you are familiar with the concepts presented the\n",
    "[Beginner colab](https://www.tensorflow.org/decision_forests/tutorials/beginner_colab),\n",
    "notably about the installation about TF-DF.\n",
    "\n",
    "In this colab, you will:\n",
    "\n",
    "1. Train a Random Forest that consumes text features natively as categorical sets.\n",
    "\n",
    "1. Train a Random Forest that consumes text features using a [TensorFlow Hub](https://www.tensorflow.org/hub) module. In this setting (transfer learning), the module is already pre-trained on a large text corpus.\n",
    "\n",
    "1. Train a Gradient Boosted Decision Trees (GBDT) and a Neural Network together. The GBDT will consume the output of the Neural Network."
   ]
  },
  {
   "cell_type": "markdown",
   "metadata": {
    "id": "Rzskapxq7gdo"
   },
   "source": [
    "## Setup"
   ]
  },
  {
   "cell_type": "code",
   "execution_count": 1,
   "metadata": {
    "execution": {
     "iopub.execute_input": "2021-11-08T12:11:47.611699Z",
     "iopub.status.busy": "2021-11-08T12:11:47.608067Z",
     "iopub.status.idle": "2021-11-08T12:11:49.898909Z",
     "shell.execute_reply": "2021-11-08T12:11:49.898332Z"
    },
    "id": "mZiInVYfffAb"
   },
   "outputs": [],
   "source": [
    "# Install TensorFlow Dececision Forests\n",
    "# !pip install tensorflow_decision_forests"
   ]
  },
  {
   "cell_type": "markdown",
   "metadata": {
    "id": "2EFndCFdoJM5"
   },
   "source": [
    "Install [Wurlitzer](https://pypi.org/project/wurlitzer/). It can be used to show\n",
    "the detailed training logs. This is only needed in colabs."
   ]
  },
  {
   "cell_type": "code",
   "execution_count": 2,
   "metadata": {
    "execution": {
     "iopub.execute_input": "2021-11-08T12:11:49.906660Z",
     "iopub.status.busy": "2021-11-08T12:11:49.903873Z",
     "iopub.status.idle": "2021-11-08T12:11:51.357659Z",
     "shell.execute_reply": "2021-11-08T12:11:51.358098Z"
    },
    "id": "L06XWRdSoLj5"
   },
   "outputs": [],
   "source": [
    "# !pip install wurlitzer"
   ]
  },
  {
   "cell_type": "markdown",
   "metadata": {
    "id": "i7PlfbnxYcPf"
   },
   "source": [
    "Import the necessary libraries."
   ]
  },
  {
   "cell_type": "code",
   "execution_count": 3,
   "metadata": {
    "execution": {
     "iopub.execute_input": "2021-11-08T12:11:51.364336Z",
     "iopub.status.busy": "2021-11-08T12:11:51.363674Z",
     "iopub.status.idle": "2021-11-08T12:11:53.454017Z",
     "shell.execute_reply": "2021-11-08T12:11:53.454399Z"
    },
    "id": "RsCV2oAS7gC_"
   },
   "outputs": [
    {
     "name": "stderr",
     "output_type": "stream",
     "text": [
      "2022-03-13 00:41:29.278785: W tensorflow/stream_executor/platform/default/dso_loader.cc:64] Could not load dynamic library 'libcudart.so.11.0'; dlerror: libcudart.so.11.0: cannot open shared object file: No such file or directory\n",
      "2022-03-13 00:41:29.278831: I tensorflow/stream_executor/cuda/cudart_stub.cc:29] Ignore above cudart dlerror if you do not have a GPU set up on your machine.\n",
      "WARNING:root:TF Parameter Server distributed training not available (this is expected for the pre-build release).\n"
     ]
    }
   ],
   "source": [
    "import tensorflow_decision_forests as tfdf\n",
    "\n",
    "import os\n",
    "import numpy as np\n",
    "import pandas as pd\n",
    "import tensorflow as tf\n",
    "import math\n",
    "\n",
    "try:\n",
    "  from wurlitzer import sys_pipes\n",
    "except:\n",
    "  from colabtools.googlelog import CaptureLog as sys_pipes\n",
    "\n",
    "from IPython.core.magic import register_line_magic\n",
    "from IPython.display import Javascript"
   ]
  },
  {
   "cell_type": "markdown",
   "metadata": {
    "id": "M_D4Ft4o65XT"
   },
   "source": [
    "## Use raw text as features\n",
    "\n",
    "TF-DF can consume [categorical-set](https://arxiv.org/pdf/2009.09991.pdf)\n",
    "features natively. Categorical-sets represent text features as bags of words\n",
    "(or n-grams).\n",
    "\n",
    "For example: `\"The little blue dog\" ` → `{\"the\", \"little\", \"blue\", \"dog\"}`\n",
    "\n",
    "In this example, you'll will train a Random Forest on the\n",
    "[Stanford Sentiment Treebank](https://nlp.stanford.edu/sentiment/index.html)\n",
    "(SST) dataset. The objective of this dataset is to classify sentences as\n",
    "carrying a *positive* or *negative* sentiment. You'll will use the binary\n",
    "classification version of the dataset curated in\n",
    "[TensorFlow Datasets](https://www.tensorflow.org/datasets/catalog/glue#gluesst2).\n",
    "\n",
    "**Note:** Categorical-set features can be expensive to train. In this colab, we\n",
    "will train a small Random Forest with 20 trees."
   ]
  },
  {
   "cell_type": "code",
   "execution_count": 5,
   "metadata": {
    "execution": {
     "iopub.execute_input": "2021-11-08T12:11:53.470068Z",
     "iopub.status.busy": "2021-11-08T12:11:53.464586Z",
     "iopub.status.idle": "2021-11-08T12:11:56.837385Z",
     "shell.execute_reply": "2021-11-08T12:11:56.837829Z"
    },
    "id": "SgEiFy23j14S"
   },
   "outputs": [],
   "source": [
    "# Install the nighly TensorFlow Datasets package\n",
    "# TODO: Remove when the release package is fixed.\n",
    "# !pip install tfds-nightly -U --quiet"
   ]
  },
  {
   "cell_type": "code",
   "execution_count": 6,
   "metadata": {
    "execution": {
     "iopub.execute_input": "2021-11-08T12:11:56.843611Z",
     "iopub.status.busy": "2021-11-08T12:11:56.842954Z",
     "iopub.status.idle": "2021-11-08T12:12:01.816529Z",
     "shell.execute_reply": "2021-11-08T12:12:01.816908Z"
    },
    "id": "uVN-j0E4Q1T3"
   },
   "outputs": [
    {
     "name": "stdout",
     "output_type": "stream",
     "text": [
      "{'idx': 163, 'label': -1, 'sentence': b'not even the hanson brothers can save it'}\n",
      "{'idx': 131, 'label': -1, 'sentence': b'strong setup and ambitious goals fade as the film descends into unsophisticated scare tactics and b-film thuggery .'}\n",
      "{'idx': 1579, 'label': -1, 'sentence': b'too timid to bring a sense of closure to an ugly chapter of the twentieth century .'}\n"
     ]
    },
    {
     "name": "stderr",
     "output_type": "stream",
     "text": [
      "2022-03-13 00:43:44.490876: W tensorflow/core/kernels/data/cache_dataset_ops.cc:768] The calling iterator did not fully read the dataset being cached. In order to avoid unexpected truncation of the dataset, the partially cached contents of the dataset  will be discarded. This can happen if you have an input pipeline similar to `dataset.cache().take(k).repeat()`. You should use `dataset.take(k).cache().repeat()` instead.\n"
     ]
    }
   ],
   "source": [
    "# Load the dataset\n",
    "import tensorflow_datasets as tfds\n",
    "all_ds = tfds.load(\"glue/sst2\")\n",
    "\n",
    "# Display the first 3 examples of the test fold.\n",
    "for example in all_ds[\"test\"].take(3):\n",
    "  print({attr_name: attr_tensor.numpy() for attr_name, attr_tensor in example.items()})"
   ]
  },
  {
   "cell_type": "markdown",
   "metadata": {
    "id": "UHiQUWE2XDYN"
   },
   "source": [
    "The dataset is modified as follows:\n",
    "\n",
    "1. The raw labels are integers in `{-1, 1}`, but the learning algorithm expects positive integer labels e.g. `{0, 1}`. Therefore, the labels are transformed as follows: `new_labels = (original_labels + 1) / 2`.\n",
    "1. A batch-size of 64 is applied to make reading the dataset more efficient.\n",
    "1. The `sentence` attribute needs to be tokenized, i.e. `\"hello world\" -> [\"hello\", \"world\"]`.\n",
    "\n",
    "\n",
    "**Note:** This example doesn't use the `test` split of the dataset as it does\n",
    "not have labels. If `test` split had labels, you could concatenate the\n",
    "`validation` fold into the `train` one (e.g. `all_ds[\"train\"].concatenate(all_ds[\"validation\"])`).\n",
    "\n",
    "**Details:** Some decision forest learning algorithms do not need a validation\n",
    "dataset (e.g. Random Forests) while others do\n",
    "(e.g. Gradient Boosted Trees in some cases). Since each learning algorithm under\n",
    "TF-DF can use validation data differently, TF-DF handles train/validation splits\n",
    "internally. As a result, when you have a training and validation sets, they can\n",
    "always be concatenated as input to the learning algorithm."
   ]
  },
  {
   "cell_type": "code",
   "execution_count": 7,
   "metadata": {
    "execution": {
     "iopub.execute_input": "2021-11-08T12:12:01.822798Z",
     "iopub.status.busy": "2021-11-08T12:12:01.822172Z",
     "iopub.status.idle": "2021-11-08T12:12:01.899832Z",
     "shell.execute_reply": "2021-11-08T12:12:01.899323Z"
    },
    "id": "yqYDKTKdSPYw"
   },
   "outputs": [],
   "source": [
    "def prepare_dataset(example):\n",
    "  label = (example[\"label\"] + 1) // 2\n",
    "  return {\"sentence\" : tf.strings.split(example[\"sentence\"])}, label\n",
    "\n",
    "train_ds = all_ds[\"train\"].batch(64).map(prepare_dataset)\n",
    "test_ds = all_ds[\"validation\"].batch(64).map(prepare_dataset)"
   ]
  },
  {
   "cell_type": "markdown",
   "metadata": {
    "id": "YYkIjROI9w43"
   },
   "source": [
    "Finaly, train and evaluate the model as usual. TF-DF  automatically detects\n",
    "multi-valued categorical features as categorical-set.\n"
   ]
  },
  {
   "cell_type": "code",
   "execution_count": 8,
   "metadata": {
    "execution": {
     "iopub.execute_input": "2021-11-08T12:12:01.909829Z",
     "iopub.status.busy": "2021-11-08T12:12:01.907625Z",
     "iopub.status.idle": "2021-11-08T12:15:56.396099Z",
     "shell.execute_reply": "2021-11-08T12:15:56.395518Z"
    },
    "id": "mpxTtYo39wYZ"
   },
   "outputs": [
    {
     "name": "stdout",
     "output_type": "stream",
     "text": [
      "Use /tmp/tmp8l4grh9w as temporary training directory\n",
      "Warning:  The dataset has a small batch size (64). TF-DF model quality is not impacted by the batch size. However, a small batch size slow down the dataset reading and training preparation. Use a batch size of at least 100 (1000 if even better) for a dataset with more than 2k examples to solve this issue. Alternatively, you can disabled this check with the constructor argument `check_dataset=False`. If this message is a false positive, please let us know so we can improve this dataset check logic. This warning will be turned into an error on [18 Jan. 2022]. Make sure to solve this issue before this date.\n",
      "Starting reading the dataset\n",
      "1043/1053 [============================>.] - ETA: 0s\n",
      "Dataset read in 0:00:07.610874\n",
      "Training model\n",
      "Model trained in 0:04:25.675454\n",
      "Compiling model\n"
     ]
    },
    {
     "name": "stderr",
     "output_type": "stream",
     "text": [
      "[INFO kernel.cc:1153] Loading model from path\n",
      "[INFO abstract_model.cc:1063] Engine \"RandomForestGeneric\" built\n",
      "[INFO kernel.cc:1001] Use fast generic engine\n"
     ]
    },
    {
     "name": "stdout",
     "output_type": "stream",
     "text": [
      "1053/1053 [==============================] - 274s 257ms/step\n",
      "WARNING:tensorflow:AutoGraph could not transform <function simple_ml_inference_op_with_handle at 0x7feb5bc72550> and will run it as-is.\n",
      "Please report this to the TensorFlow team. When filing the bug, set the verbosity to 10 (on Linux, `export AUTOGRAPH_VERBOSITY=10`) and attach the full output.\n",
      "Cause: could not get source code\n",
      "To silence this warning, decorate the function with @tf.autograph.experimental.do_not_convert\n"
     ]
    },
    {
     "name": "stderr",
     "output_type": "stream",
     "text": [
      "WARNING:tensorflow:AutoGraph could not transform <function simple_ml_inference_op_with_handle at 0x7feb5bc72550> and will run it as-is.\n",
      "Please report this to the TensorFlow team. When filing the bug, set the verbosity to 10 (on Linux, `export AUTOGRAPH_VERBOSITY=10`) and attach the full output.\n",
      "Cause: could not get source code\n",
      "To silence this warning, decorate the function with @tf.autograph.experimental.do_not_convert\n"
     ]
    },
    {
     "name": "stdout",
     "output_type": "stream",
     "text": [
      "WARNING: AutoGraph could not transform <function simple_ml_inference_op_with_handle at 0x7feb5bc72550> and will run it as-is.\n",
      "Please report this to the TensorFlow team. When filing the bug, set the verbosity to 10 (on Linux, `export AUTOGRAPH_VERBOSITY=10`) and attach the full output.\n",
      "Cause: could not get source code\n",
      "To silence this warning, decorate the function with @tf.autograph.experimental.do_not_convert\n"
     ]
    }
   ],
   "source": [
    "# %set_cell_height 300\n",
    "\n",
    "# Specify the model.\n",
    "model_1 = tfdf.keras.RandomForestModel(num_trees=30)\n",
    "\n",
    "# Optionally, add evaluation metrics.\n",
    "model_1.compile(metrics=[\"accuracy\"])\n",
    "\n",
    "# Train the model.\n",
    "with sys_pipes():\n",
    "  model_1.fit(x=train_ds)"
   ]
  },
  {
   "cell_type": "markdown",
   "metadata": {
    "id": "D9FMFGzwiHCt"
   },
   "source": [
    "In the previous logs, note that `sentence` is a `CATEGORICAL_SET` feature.\n",
    "\n",
    "The model is evaluated as usual:"
   ]
  },
  {
   "cell_type": "code",
   "execution_count": 9,
   "metadata": {
    "execution": {
     "iopub.execute_input": "2021-11-08T12:15:56.401526Z",
     "iopub.status.busy": "2021-11-08T12:15:56.400580Z",
     "iopub.status.idle": "2021-11-08T12:15:57.244406Z",
     "shell.execute_reply": "2021-11-08T12:15:57.244794Z"
    },
    "id": "cpf-wHl094S1"
   },
   "outputs": [
    {
     "name": "stdout",
     "output_type": "stream",
     "text": [
      "14/14 [==============================] - 0s 4ms/step - loss: 0.0000e+00 - accuracy: 0.7638\n",
      "BinaryCrossentropyloss: 0.0\n",
      "Accuracy: 0.7637614607810974\n"
     ]
    }
   ],
   "source": [
    "evaluation = model_1.evaluate(test_ds)\n",
    "\n",
    "print(f\"BinaryCrossentropyloss: {evaluation[0]}\")\n",
    "print(f\"Accuracy: {evaluation[1]}\")"
   ]
  },
  {
   "cell_type": "markdown",
   "metadata": {
    "id": "YliBX4GtjncQ"
   },
   "source": [
    "The training logs looks are follow:"
   ]
  },
  {
   "cell_type": "code",
   "execution_count": 10,
   "metadata": {
    "execution": {
     "iopub.execute_input": "2021-11-08T12:15:57.249814Z",
     "iopub.status.busy": "2021-11-08T12:15:57.249178Z",
     "iopub.status.idle": "2021-11-08T12:15:57.699348Z",
     "shell.execute_reply": "2021-11-08T12:15:57.699750Z"
    },
    "id": "OnTTtBNmjpo7"
   },
   "outputs": [
    {
     "data": {
      "image/png": "[encoded data removed]",
      "text/plain": [
       "<Figure size 432x288 with 1 Axes>"
      ]
     },
     "metadata": {
      "needs_background": "light"
     },
     "output_type": "display_data"
    }
   ],
   "source": [
    "import matplotlib.pyplot as plt\n",
    "\n",
    "logs = model_1.make_inspector().training_logs()\n",
    "plt.plot([log.num_trees for log in logs], [log.evaluation.accuracy for log in logs])\n",
    "plt.xlabel(\"Number of trees\")\n",
    "plt.ylabel(\"Out-of-bag accuracy\")\n",
    "pass"
   ]
  },
  {
   "cell_type": "markdown",
   "metadata": {
    "id": "d4qJ0ig3kgic"
   },
   "source": [
    "More trees would probably be beneficial (I am sure of it because I tried :p)."
   ]
  },
  {
   "cell_type": "markdown",
   "metadata": {
    "id": "Iil_oyOhCNx6"
   },
   "source": [
    "## Use a pretrained text embedding\n",
    "\n",
    "The previous example trained a Random Forest using raw text features. This\n",
    "example will use a pre-trained TF-Hub embedding to convert text features into a\n",
    "dense embedding, and then train a Random Forest on top of it. In this situation,\n",
    "the Random Forest will only \"see\" the numerical output of the embedding\n",
    "(i.e. it will not see the raw text). \n",
    "\n",
    "In this experiment,  will use the\n",
    "[Universal-Sentence-Encoder](https://tfhub.dev/google/universal-sentence-encoder/4).\n",
    "Different pre-trained embeddings might be suited for different types of text\n",
    "(e.g. different language, different task) but also for other type of structured\n",
    "features (e.g. images).\n",
    "\n",
    "**Note:** This embedding is large (1GB) and therefore the final model will be\n",
    "slow to run (compared to classical decision tree inference).\n",
    "\n",
    "The embedding module can be applied in one of two places:\n",
    "\n",
    "1. During the dataset preparation.\n",
    "2. In the pre-processing stage of the model.\n",
    "\n",
    "The second option is often preferable: Packaging the embedding in the model\n",
    "makes the model easier to use (and harder to misuse).\n",
    "\n",
    "First install TF-Hub:"
   ]
  },
  {
   "cell_type": "code",
   "execution_count": 12,
   "metadata": {
    "execution": {
     "iopub.execute_input": "2021-11-08T12:15:57.719512Z",
     "iopub.status.busy": "2021-11-08T12:15:57.703915Z",
     "iopub.status.idle": "2021-11-08T12:15:59.196878Z",
     "shell.execute_reply": "2021-11-08T12:15:59.196238Z"
    },
    "id": "QfYGXim_DskC"
   },
   "outputs": [
    {
     "name": "stdout",
     "output_type": "stream",
     "text": [
      "Requirement already satisfied: tensorflow-hub in /tmpfs/src/tf_docs_env/lib/python3.7/site-packages (0.12.0)\r\n"
     ]
    },
    {
     "name": "stdout",
     "output_type": "stream",
     "text": [
      "Requirement already satisfied: numpy>=1.12.0 in /tmpfs/src/tf_docs_env/lib/python3.7/site-packages (from tensorflow-hub) (1.21.4)\r\n",
      "Requirement already satisfied: protobuf>=3.8.0 in /tmpfs/src/tf_docs_env/lib/python3.7/site-packages (from tensorflow-hub) (3.19.1)\r\n"
     ]
    }
   ],
   "source": [
    "# !pip install --upgrade tensorflow-hub"
   ]
  },
  {
   "cell_type": "markdown",
   "metadata": {
    "id": "kNSEhJgjEXww"
   },
   "source": [
    "Unlike before, you don't need to tokenize the text."
   ]
  },
  {
   "cell_type": "code",
   "execution_count": 11,
   "metadata": {
    "execution": {
     "iopub.execute_input": "2021-11-08T12:15:59.205678Z",
     "iopub.status.busy": "2021-11-08T12:15:59.204517Z",
     "iopub.status.idle": "2021-11-08T12:15:59.251690Z",
     "shell.execute_reply": "2021-11-08T12:15:59.252033Z"
    },
    "id": "pS5SYqoScbOc"
   },
   "outputs": [],
   "source": [
    "def prepare_dataset(example):\n",
    "  label = (example[\"label\"] + 1) // 2\n",
    "  return {\"sentence\" : example[\"sentence\"]}, label\n",
    "\n",
    "train_ds = all_ds[\"train\"].batch(64).map(prepare_dataset)\n",
    "test_ds = all_ds[\"validation\"].batch(64).map(prepare_dataset)\n"
   ]
  },
  {
   "cell_type": "code",
   "execution_count": 12,
   "metadata": {
    "execution": {
     "iopub.execute_input": "2021-11-08T12:15:59.260135Z",
     "iopub.status.busy": "2021-11-08T12:15:59.259389Z",
     "iopub.status.idle": "2021-11-08T12:17:33.712798Z",
     "shell.execute_reply": "2021-11-08T12:17:33.713340Z"
    },
    "id": "zHEsd8q_ESpC"
   },
   "outputs": [
    {
     "name": "stdout",
     "output_type": "stream",
     "text": [
      "Use /tmp/tmptvim_5pn as temporary training directory\n",
      "Warning:  The dataset has a small batch size (64). TF-DF model quality is not impacted by the batch size. However, a small batch size slow down the dataset reading and training preparation. Use a batch size of at least 100 (1000 if even better) for a dataset with more than 2k examples to solve this issue. Alternatively, you can disabled this check with the constructor argument `check_dataset=False`. If this message is a false positive, please let us know so we can improve this dataset check logic. This warning will be turned into an error on [18 Jan. 2022]. Make sure to solve this issue before this date.\n",
      "Starting reading the dataset\n",
      "1050/1053 [============================>.] - ETA: 0s\n",
      "Dataset read in 0:00:17.926571\n",
      "Training model\n",
      "Model trained in 0:00:45.377435\n",
      "Compiling model\n"
     ]
    },
    {
     "name": "stderr",
     "output_type": "stream",
     "text": [
      "[INFO kernel.cc:1153] Loading model from path\n",
      "[INFO abstract_model.cc:1063] Engine \"RandomForestOptPred\" built\n",
      "[INFO kernel.cc:1001] Use fast generic engine\n"
     ]
    },
    {
     "name": "stdout",
     "output_type": "stream",
     "text": [
      "1053/1053 [==============================] - 65s 56ms/step\n"
     ]
    }
   ],
   "source": [
    "# %set_cell_height 300\n",
    "\n",
    "import tensorflow_hub as hub\n",
    "# NNLM (https://tfhub.dev/google/nnlm-en-dim128/2) is also a good choice.\n",
    "hub_url = \"http://tfhub.dev/google/universal-sentence-encoder/4\"\n",
    "embedding = hub.KerasLayer(hub_url)\n",
    "\n",
    "sentence = tf.keras.layers.Input(shape=(), name=\"sentence\", dtype=tf.string)\n",
    "embedded_sentence = embedding(sentence)\n",
    "\n",
    "raw_inputs = {\"sentence\": sentence}\n",
    "processed_inputs = {\"embedded_sentence\": embedded_sentence}\n",
    "preprocessor = tf.keras.Model(inputs=raw_inputs, outputs=processed_inputs)\n",
    "\n",
    "model_2 = tfdf.keras.RandomForestModel(\n",
    "    preprocessing=preprocessor,\n",
    "    num_trees=100)\n",
    "model_2.compile(metrics=[\"accuracy\"])\n",
    "\n",
    "with sys_pipes():\n",
    "  model_2.fit(x=train_ds)"
   ]
  },
  {
   "cell_type": "code",
   "execution_count": 13,
   "metadata": {
    "execution": {
     "iopub.execute_input": "2021-11-08T12:17:33.718418Z",
     "iopub.status.busy": "2021-11-08T12:17:33.717755Z",
     "iopub.status.idle": "2021-11-08T12:17:35.306208Z",
     "shell.execute_reply": "2021-11-08T12:17:35.305741Z"
    },
    "id": "xPLoDqiFKY18"
   },
   "outputs": [
    {
     "name": "stdout",
     "output_type": "stream",
     "text": [
      "14/14 [==============================] - 2s 13ms/step - loss: 0.0000e+00 - accuracy: 0.7856\n",
      "BinaryCrossentropyloss: 0.0\n",
      "Accuracy: 0.7855504751205444\n"
     ]
    }
   ],
   "source": [
    "evaluation = model_2.evaluate(test_ds)\n",
    "\n",
    "print(f\"BinaryCrossentropyloss: {evaluation[0]}\")\n",
    "print(f\"Accuracy: {evaluation[1]}\")"
   ]
  },
  {
   "cell_type": "markdown",
   "metadata": {
    "id": "WPsD3LyaMLHm"
   },
   "source": [
    "Note that categorical sets represent text differently from a dense embedding,\n",
    "so it may be useful to use both strategies jointly."
   ]
  },
  {
   "cell_type": "markdown",
   "metadata": {
    "id": "37AGJamzboZQ"
   },
   "source": [
    "## Train a decision tree and neural network together\n",
    "\n",
    "The previous example used a pre-trained Neural Network (NN) to process the text\n",
    "features before passing them to the Random Forest. This example will train both\n",
    "the Neural Network and the Random Forest from scratch.\n",
    "\n",
    "TF-DF's Decision Forests do not back-propagate gradients\n",
    "([although this is the subject of ongoing research](https://arxiv.org/abs/2007.14761)).\n",
    "Therefore, the training happens in two stages:\n",
    "\n",
    "1. Train the neural-network as a standard classification task:\n",
    "\n",
    "    ```\n",
    "    example → [Normalize] → [Neural Network*] → [classification head] → prediction\n",
    "    *: Training.\n",
    "    ```\n",
    "\n",
    "2. Replace the Neural Network's head (the last layer and the soft-max) with a Random Forest. Train the Random Forest as usual:\n",
    "\n",
    "    ```\n",
    "    example → [Normalize] → [Neural Network] → [Random Forest*] → prediction\n",
    "    *: Training.\n",
    "    ```\n",
    "\n"
   ]
  },
  {
   "cell_type": "markdown",
   "metadata": {
    "id": "YSIvuAhzbjWO"
   },
   "source": [
    "### Prepare the dataset\n",
    "\n",
    "This example uses the\n",
    "[Palmer's Penguins](https://allisonhorst.github.io/palmerpenguins/articles/intro.html)\n",
    "dataset. See the\n",
    "[Beginner colab](https://www.tensorflow.org/decision_forests/tutorials/beginner_colab)\n",
    "for details.\n",
    "\n",
    "First, download the raw data:"
   ]
  },
  {
   "cell_type": "code",
   "execution_count": 16,
   "metadata": {
    "execution": {
     "iopub.execute_input": "2021-11-08T12:17:35.338985Z",
     "iopub.status.busy": "2021-11-08T12:17:35.310870Z",
     "iopub.status.idle": "2021-11-08T12:17:35.490609Z",
     "shell.execute_reply": "2021-11-08T12:17:35.491028Z"
    },
    "id": "rNyaeCx0b1be"
   },
   "outputs": [
    {
     "name": "stdout",
     "output_type": "stream",
     "text": [
      "  % Total    % Received % Xferd  Average Speed   Time    Time     Time  Current\n",
      "                                 Dload  Upload   Total   Spent    Left  Speed\n",
      "100 15241  100 15241    0     0   175k      0 --:--:-- --:--:-- --:--:--  175k\n"
     ]
    }
   ],
   "source": [
    "# !wget -q https://storage.googleapis.com/download.tensorflow.org/data/palmer_penguins/penguins.csv -O /tmp/penguins.csv\n",
    "!curl -L --output /tmp/penguins.csv https://storage.googleapis.com/download.tensorflow.org/data/palmer_penguins/penguins.csv"
   ]
  },
  {
   "cell_type": "markdown",
   "metadata": {
    "id": "pNPZzQekb9z_"
   },
   "source": [
    "Load a dataset into a Pandas Dataframe."
   ]
  },
  {
   "cell_type": "code",
   "execution_count": 17,
   "metadata": {
    "execution": {
     "iopub.execute_input": "2021-11-08T12:17:35.497332Z",
     "iopub.status.busy": "2021-11-08T12:17:35.496751Z",
     "iopub.status.idle": "2021-11-08T12:17:35.512862Z",
     "shell.execute_reply": "2021-11-08T12:17:35.512430Z"
    },
    "id": "9lA3peQ4sa9a"
   },
   "outputs": [
    {
     "data": {
      "text/html": [
       "<div>\n",
       "<style scoped>\n",
       "    .dataframe tbody tr th:only-of-type {\n",
       "        vertical-align: middle;\n",
       "    }\n",
       "\n",
       "    .dataframe tbody tr th {\n",
       "        vertical-align: top;\n",
       "    }\n",
       "\n",
       "    .dataframe thead th {\n",
       "        text-align: right;\n",
       "    }\n",
       "</style>\n",
       "<table border=\"1\" class=\"dataframe\">\n",
       "  <thead>\n",
       "    <tr style=\"text-align: right;\">\n",
       "      <th></th>\n",
       "      <th>species</th>\n",
       "      <th>island</th>\n",
       "      <th>bill_length_mm</th>\n",
       "      <th>bill_depth_mm</th>\n",
       "      <th>flipper_length_mm</th>\n",
       "      <th>body_mass_g</th>\n",
       "      <th>sex</th>\n",
       "      <th>year</th>\n",
       "    </tr>\n",
       "  </thead>\n",
       "  <tbody>\n",
       "    <tr>\n",
       "      <th>0</th>\n",
       "      <td>Adelie</td>\n",
       "      <td>Torgersen</td>\n",
       "      <td>39.1</td>\n",
       "      <td>18.7</td>\n",
       "      <td>181.0</td>\n",
       "      <td>3750.0</td>\n",
       "      <td>male</td>\n",
       "      <td>2007</td>\n",
       "    </tr>\n",
       "    <tr>\n",
       "      <th>1</th>\n",
       "      <td>Adelie</td>\n",
       "      <td>Torgersen</td>\n",
       "      <td>39.5</td>\n",
       "      <td>17.4</td>\n",
       "      <td>186.0</td>\n",
       "      <td>3800.0</td>\n",
       "      <td>female</td>\n",
       "      <td>2007</td>\n",
       "    </tr>\n",
       "    <tr>\n",
       "      <th>2</th>\n",
       "      <td>Adelie</td>\n",
       "      <td>Torgersen</td>\n",
       "      <td>40.3</td>\n",
       "      <td>18.0</td>\n",
       "      <td>195.0</td>\n",
       "      <td>3250.0</td>\n",
       "      <td>female</td>\n",
       "      <td>2007</td>\n",
       "    </tr>\n",
       "  </tbody>\n",
       "</table>\n",
       "</div>"
      ],
      "text/plain": [
       "  species     island  bill_length_mm  bill_depth_mm  flipper_length_mm  \\\n",
       "0  Adelie  Torgersen            39.1           18.7              181.0   \n",
       "1  Adelie  Torgersen            39.5           17.4              186.0   \n",
       "2  Adelie  Torgersen            40.3           18.0              195.0   \n",
       "\n",
       "   body_mass_g     sex  year  \n",
       "0       3750.0    male  2007  \n",
       "1       3800.0  female  2007  \n",
       "2       3250.0  female  2007  "
      ]
     },
     "execution_count": 17,
     "metadata": {},
     "output_type": "execute_result"
    }
   ],
   "source": [
    "dataset_df = pd.read_csv(\"/tmp/penguins.csv\")\n",
    "\n",
    "# Display the first 3 examples.\n",
    "dataset_df.head(3)"
   ]
  },
  {
   "cell_type": "markdown",
   "metadata": {
    "id": "v-_SZpRWcAoX"
   },
   "source": [
    "\n",
    "Prepare the dataset for training."
   ]
  },
  {
   "cell_type": "code",
   "execution_count": 18,
   "metadata": {
    "execution": {
     "iopub.execute_input": "2021-11-08T12:17:35.518975Z",
     "iopub.status.busy": "2021-11-08T12:17:35.518419Z",
     "iopub.status.idle": "2021-11-08T12:17:35.520117Z",
     "shell.execute_reply": "2021-11-08T12:17:35.520461Z"
    },
    "id": "rtyi8UoqtzhM"
   },
   "outputs": [],
   "source": [
    "label = \"species\"\n",
    "\n",
    "# Replaces numerical NaN (representing missing values in Pandas Dataframe) with 0s.\n",
    "# ...Neural Nets don't work well with numerical NaNs.\n",
    "for col in dataset_df.columns:\n",
    "  if dataset_df[col].dtype not in [str, object]:\n",
    "    dataset_df[col] = dataset_df[col].fillna(0)"
   ]
  },
  {
   "cell_type": "code",
   "execution_count": 19,
   "metadata": {
    "execution": {
     "iopub.execute_input": "2021-11-08T12:17:35.540129Z",
     "iopub.status.busy": "2021-11-08T12:17:35.526518Z",
     "iopub.status.idle": "2021-11-08T12:17:35.557186Z",
     "shell.execute_reply": "2021-11-08T12:17:35.557513Z"
    },
    "id": "GKrW5Yfjso0k"
   },
   "outputs": [
    {
     "name": "stdout",
     "output_type": "stream",
     "text": [
      "241 examples in training, 103 examples for testing.\n"
     ]
    },
    {
     "name": "stderr",
     "output_type": "stream",
     "text": [
      "/usr/local/lib/python3.8/dist-packages/tensorflow_decision_forests/keras/core.py:2036: FutureWarning: In a future version of pandas all arguments of DataFrame.drop except for the argument 'labels' will be keyword-only.\n",
      "  features_dataframe = dataframe.drop(label, 1)\n",
      "/usr/local/lib/python3.8/dist-packages/tensorflow_decision_forests/keras/core.py:2036: FutureWarning: In a future version of pandas all arguments of DataFrame.drop except for the argument 'labels' will be keyword-only.\n",
      "  features_dataframe = dataframe.drop(label, 1)\n"
     ]
    }
   ],
   "source": [
    "# Split the dataset into a training and testing dataset.\n",
    "\n",
    "def split_dataset(dataset, test_ratio=0.30):\n",
    "  \"\"\"Splits a panda dataframe in two.\"\"\"\n",
    "  test_indices = np.random.rand(len(dataset)) < test_ratio\n",
    "  return dataset[~test_indices], dataset[test_indices]\n",
    "\n",
    "train_ds_pd, test_ds_pd = split_dataset(dataset_df)\n",
    "print(\"{} examples in training, {} examples for testing.\".format(\n",
    "    len(train_ds_pd), len(test_ds_pd)))\n",
    "\n",
    "# Convert the datasets into tensorflow datasets\n",
    "train_ds = tfdf.keras.pd_dataframe_to_tf_dataset(train_ds_pd, label=label)\n",
    "test_ds = tfdf.keras.pd_dataframe_to_tf_dataset(test_ds_pd, label=label)"
   ]
  },
  {
   "cell_type": "markdown",
   "metadata": {
    "id": "ore7f6tgcOMh"
   },
   "source": [
    "### Build the models\n",
    "\n",
    "Next create the neural network model using\n",
    "[Keras' functional style](https://www.tensorflow.org/guide/keras/functional). \n",
    "\n",
    "To keep the example simple this model only uses two inputs."
   ]
  },
  {
   "cell_type": "code",
   "execution_count": 22,
   "metadata": {
    "execution": {
     "iopub.execute_input": "2021-11-08T12:17:35.564399Z",
     "iopub.status.busy": "2021-11-08T12:17:35.563840Z",
     "iopub.status.idle": "2021-11-08T12:17:35.565947Z",
     "shell.execute_reply": "2021-11-08T12:17:35.565531Z"
    },
    "id": "S1Jfe4YteBqY"
   },
   "outputs": [],
   "source": [
    "input_1 = tf.keras.Input(shape=(1,), name=\"bill_length_mm\", dtype=\"float\")\n",
    "input_2 = tf.keras.Input(shape=(1,), name=\"island\", dtype=\"string\")\n",
    "\n",
    "nn_raw_inputs = [input_1, input_2]"
   ]
  },
  {
   "cell_type": "markdown",
   "metadata": {
    "id": "ZjlvAUNGeDM8"
   },
   "source": [
    "Use\n",
    "[preprocessing layers](https://www.tensorflow.org/guide/keras/preprocessing_layers)\n",
    "to convert the raw inputs to inputs apropriate for the neural netrwork. "
   ]
  },
  {
   "cell_type": "code",
   "execution_count": 23,
   "metadata": {
    "execution": {
     "iopub.execute_input": "2021-11-08T12:17:35.573675Z",
     "iopub.status.busy": "2021-11-08T12:17:35.573116Z",
     "iopub.status.idle": "2021-11-08T12:17:36.019041Z",
     "shell.execute_reply": "2021-11-08T12:17:36.018585Z"
    },
    "id": "9Q09Nkp6ei21"
   },
   "outputs": [
    {
     "name": "stdout",
     "output_type": "stream",
     "text": [
      "WARNING:tensorflow:max_tokens is deprecated, please use num_tokens instead.\n"
     ]
    },
    {
     "name": "stderr",
     "output_type": "stream",
     "text": [
      "WARNING:tensorflow:max_tokens is deprecated, please use num_tokens instead.\n"
     ]
    }
   ],
   "source": [
    "# Normalization.\n",
    "Normalization = tf.keras.layers.Normalization\n",
    "CategoryEncoding = tf.keras.layers.CategoryEncoding\n",
    "StringLookup = tf.keras.layers.StringLookup\n",
    "\n",
    "values = train_ds_pd[\"bill_length_mm\"].values[:, tf.newaxis]\n",
    "input_1_normalizer = Normalization()\n",
    "input_1_normalizer.adapt(values)\n",
    "\n",
    "values = train_ds_pd[\"island\"].values\n",
    "input_2_indexer = StringLookup(max_tokens=32)\n",
    "input_2_indexer.adapt(values)\n",
    "\n",
    "input_2_onehot = CategoryEncoding(output_mode=\"binary\", max_tokens=32)\n",
    "\n",
    "normalized_input_1 = input_1_normalizer(input_1)\n",
    "normalized_input_2 = input_2_onehot(input_2_indexer(input_2))\n",
    "\n",
    "nn_processed_inputs = [normalized_input_1, normalized_input_2]"
   ]
  },
  {
   "cell_type": "markdown",
   "metadata": {
    "id": "ZCoQljyhelau"
   },
   "source": [
    "Build the body of the neural network:"
   ]
  },
  {
   "cell_type": "code",
   "execution_count": 25,
   "metadata": {
    "execution": {
     "iopub.execute_input": "2021-11-08T12:17:36.026099Z",
     "iopub.status.busy": "2021-11-08T12:17:36.024783Z",
     "iopub.status.idle": "2021-11-08T12:17:36.053259Z",
     "shell.execute_reply": "2021-11-08T12:17:36.053610Z"
    },
    "id": "KzocgbYNsH6y"
   },
   "outputs": [],
   "source": [
    "y = tf.keras.layers.Concatenate()(nn_processed_inputs)\n",
    "y = tf.keras.layers.Dense(16, activation=tf.nn.relu6)(y)\n",
    "last_layer = tf.keras.layers.Dense(8, activation=tf.nn.relu, name=\"last\")(y)\n",
    "\n",
    "# \"3\" for the three label classes. If it were a binary classification, the\n",
    "# output dim would be 1.\n",
    "classification_output = tf.keras.layers.Dense(3)(y)\n",
    "\n",
    "nn_model = tf.keras.models.Model(nn_raw_inputs, classification_output)"
   ]
  },
  {
   "cell_type": "markdown",
   "metadata": {
    "id": "zPbRKf1CfIrj"
   },
   "source": [
    "This `nn_model` directly produces classification logits. \n",
    "\n",
    "Next create a decision forest model. This will operate on the high level\n",
    "features that the neural network extracts in the last layer before that classification head."
   ]
  },
  {
   "cell_type": "code",
   "execution_count": 26,
   "metadata": {
    "execution": {
     "iopub.execute_input": "2021-11-08T12:17:36.058224Z",
     "iopub.status.busy": "2021-11-08T12:17:36.057508Z",
     "iopub.status.idle": "2021-11-08T12:17:36.064994Z",
     "shell.execute_reply": "2021-11-08T12:17:36.064526Z"
    },
    "id": "7fnpGNyTuXvH"
   },
   "outputs": [
    {
     "name": "stdout",
     "output_type": "stream",
     "text": [
      "Use /tmp/tmpqne_zltj as temporary training directory\n"
     ]
    }
   ],
   "source": [
    "# To reduce the risk of mistakes, group both the decision forest and the\n",
    "# neural network in a single keras model.\n",
    "nn_without_head = tf.keras.models.Model(inputs=nn_model.inputs, outputs=last_layer)\n",
    "df_and_nn_model = tfdf.keras.RandomForestModel(preprocessing=nn_without_head)"
   ]
  },
  {
   "cell_type": "markdown",
   "metadata": {
    "id": "trq07lvMudlz"
   },
   "source": [
    "### Train and evaluate the models\n",
    "\n",
    "The model will be trained in two stages. First train the neural network with its\n",
    "own classification head:"
   ]
  },
  {
   "cell_type": "code",
   "execution_count": 27,
   "metadata": {
    "execution": {
     "iopub.execute_input": "2021-11-08T12:17:36.070613Z",
     "iopub.status.busy": "2021-11-08T12:17:36.070016Z",
     "iopub.status.idle": "2021-11-08T12:17:36.834318Z",
     "shell.execute_reply": "2021-11-08T12:17:36.833902Z"
    },
    "id": "h4OyUWKiupuF"
   },
   "outputs": [
    {
     "name": "stdout",
     "output_type": "stream",
     "text": [
      "Epoch 1/10\n"
     ]
    },
    {
     "name": "stderr",
     "output_type": "stream",
     "text": [
      "/usr/local/lib/python3.8/dist-packages/keras/engine/functional.py:559: UserWarning: Input dict contained keys ['bill_depth_mm', 'flipper_length_mm', 'body_mass_g', 'sex', 'year'] which did not match any model input. They will be ignored by the model.\n",
      "  inputs = self._flatten_to_reference_inputs(inputs)\n"
     ]
    },
    {
     "name": "stdout",
     "output_type": "stream",
     "text": [
      "1/1 [==============================] - 1s 1s/step - loss: 0.9867 - accuracy: 0.5311 - val_loss: 1.0137 - val_accuracy: 0.5049\n",
      "Epoch 2/10\n",
      "1/1 [==============================] - 0s 47ms/step - loss: 0.9828 - accuracy: 0.5560 - val_loss: 1.0104 - val_accuracy: 0.5146\n",
      "Epoch 3/10\n",
      "1/1 [==============================] - 0s 27ms/step - loss: 0.9789 - accuracy: 0.5726 - val_loss: 1.0070 - val_accuracy: 0.5340\n",
      "Epoch 4/10\n",
      "1/1 [==============================] - 0s 35ms/step - loss: 0.9751 - accuracy: 0.5768 - val_loss: 1.0037 - val_accuracy: 0.5340\n",
      "Epoch 5/10\n",
      "1/1 [==============================] - 0s 32ms/step - loss: 0.9712 - accuracy: 0.5934 - val_loss: 1.0004 - val_accuracy: 0.5340\n",
      "Epoch 6/10\n",
      "1/1 [==============================] - 0s 30ms/step - loss: 0.9674 - accuracy: 0.6058 - val_loss: 0.9971 - val_accuracy: 0.5340\n",
      "Epoch 7/10\n",
      "1/1 [==============================] - 0s 40ms/step - loss: 0.9636 - accuracy: 0.6100 - val_loss: 0.9939 - val_accuracy: 0.5437\n",
      "Epoch 8/10\n",
      "1/1 [==============================] - 0s 40ms/step - loss: 0.9598 - accuracy: 0.6183 - val_loss: 0.9906 - val_accuracy: 0.5728\n",
      "Epoch 9/10\n",
      "1/1 [==============================] - 0s 30ms/step - loss: 0.9560 - accuracy: 0.6224 - val_loss: 0.9874 - val_accuracy: 0.5922\n",
      "Epoch 10/10\n",
      "1/1 [==============================] - 0s 33ms/step - loss: 0.9523 - accuracy: 0.6307 - val_loss: 0.9842 - val_accuracy: 0.6117\n",
      "Model: \"model_2\"\n",
      "__________________________________________________________________________________________________\n",
      " Layer (type)                   Output Shape         Param #     Connected to                     \n",
      "==================================================================================================\n",
      " island (InputLayer)            [(None, 1)]          0           []                               \n",
      "                                                                                                  \n",
      " bill_length_mm (InputLayer)    [(None, 1)]          0           []                               \n",
      "                                                                                                  \n",
      " string_lookup_2 (StringLookup)  (None, 1)           0           ['island[0][0]']                 \n",
      "                                                                                                  \n",
      " normalization_2 (Normalization  (None, 1)           3           ['bill_length_mm[0][0]']         \n",
      " )                                                                                                \n",
      "                                                                                                  \n",
      " category_encoding_2 (CategoryE  (None, 32)          0           ['string_lookup_2[0][0]']        \n",
      " ncoding)                                                                                         \n",
      "                                                                                                  \n",
      " concatenate_1 (Concatenate)    (None, 33)           0           ['normalization_2[0][0]',        \n",
      "                                                                  'category_encoding_2[0][0]']    \n",
      "                                                                                                  \n",
      " dense_2 (Dense)                (None, 16)           544         ['concatenate_1[0][0]']          \n",
      "                                                                                                  \n",
      " dense_3 (Dense)                (None, 3)            51          ['dense_2[0][0]']                \n",
      "                                                                                                  \n",
      "==================================================================================================\n",
      "Total params: 598\n",
      "Trainable params: 595\n",
      "Non-trainable params: 3\n",
      "__________________________________________________________________________________________________\n"
     ]
    }
   ],
   "source": [
    "# %set_cell_height 300\n",
    "\n",
    "nn_model.compile(\n",
    "  optimizer=tf.keras.optimizers.Adam(),\n",
    "  loss=tf.keras.losses.SparseCategoricalCrossentropy(from_logits=True),\n",
    "  metrics=[\"accuracy\"])\n",
    "\n",
    "nn_model.fit(x=train_ds, validation_data=test_ds, epochs=10)\n",
    "nn_model.summary()"
   ]
  },
  {
   "cell_type": "markdown",
   "metadata": {
    "id": "N2mgMZOpgMQp"
   },
   "source": [
    "The neural network layers are shared between the two models. So now that the\n",
    "neural network is trained the decision forest model will be fit to the trained\n",
    "output of the neural network layers:"
   ]
  },
  {
   "cell_type": "code",
   "execution_count": 28,
   "metadata": {
    "execution": {
     "iopub.execute_input": "2021-11-08T12:17:36.839807Z",
     "iopub.status.busy": "2021-11-08T12:17:36.839228Z",
     "iopub.status.idle": "2021-11-08T12:17:37.229824Z",
     "shell.execute_reply": "2021-11-08T12:17:37.230266Z"
    },
    "id": "JAc9niXqud7V"
   },
   "outputs": [
    {
     "name": "stdout",
     "output_type": "stream",
     "text": [
      "Starting reading the dataset\n",
      "1/1 [==============================] - ETA: 0s\n",
      "Dataset read in 0:00:00.279747\n",
      "Training model\n",
      "Model trained in 0:00:00.064304\n",
      "Compiling model\n"
     ]
    },
    {
     "name": "stderr",
     "output_type": "stream",
     "text": [
      "[INFO kernel.cc:1153] Loading model from path\n",
      "[INFO abstract_model.cc:1063] Engine \"RandomForestGeneric\" built\n",
      "[INFO kernel.cc:1001] Use fast generic engine\n"
     ]
    },
    {
     "name": "stdout",
     "output_type": "stream",
     "text": [
      "1/1 [==============================] - 0s 368ms/step\n"
     ]
    }
   ],
   "source": [
    "# %set_cell_height 300\n",
    "\n",
    "df_and_nn_model.compile(metrics=[\"accuracy\"])\n",
    "with sys_pipes():\n",
    "  df_and_nn_model.fit(x=train_ds)"
   ]
  },
  {
   "cell_type": "markdown",
   "metadata": {
    "id": "HF8Ru2HSv1a5"
   },
   "source": [
    "Now evaluate the composed model:"
   ]
  },
  {
   "cell_type": "code",
   "execution_count": 29,
   "metadata": {
    "execution": {
     "iopub.execute_input": "2021-11-08T12:17:37.234898Z",
     "iopub.status.busy": "2021-11-08T12:17:37.234315Z",
     "iopub.status.idle": "2021-11-08T12:17:37.381180Z",
     "shell.execute_reply": "2021-11-08T12:17:37.381574Z"
    },
    "id": "EPMlcObzuw89"
   },
   "outputs": [
    {
     "name": "stdout",
     "output_type": "stream",
     "text": [
      "1/1 [==============================] - 0s 161ms/step - loss: 0.0000e+00 - accuracy: 0.9320\n",
      "Evaluation: [0.0, 0.9320388436317444]\n"
     ]
    }
   ],
   "source": [
    "print(\"Evaluation:\", df_and_nn_model.evaluate(test_ds))"
   ]
  },
  {
   "cell_type": "markdown",
   "metadata": {
    "id": "awiHEznlv5sI"
   },
   "source": [
    "Compare it to the Neural Network alone:"
   ]
  },
  {
   "cell_type": "code",
   "execution_count": 30,
   "metadata": {
    "execution": {
     "iopub.execute_input": "2021-11-08T12:17:37.386340Z",
     "iopub.status.busy": "2021-11-08T12:17:37.385770Z",
     "iopub.status.idle": "2021-11-08T12:17:37.405484Z",
     "shell.execute_reply": "2021-11-08T12:17:37.405844Z"
    },
    "id": "--ompWYTvxM-"
   },
   "outputs": [
    {
     "name": "stdout",
     "output_type": "stream",
     "text": [
      "1/1 [==============================] - 0s 15ms/step - loss: 0.9842 - accuracy: 0.6117\n",
      "Evaluation : [0.984201967716217, 0.6116504669189453]\n"
     ]
    }
   ],
   "source": [
    "print(\"Evaluation :\", nn_model.evaluate(test_ds))"
   ]
  }
 ],
 "metadata": {
  "colab": {
   "collapsed_sections": [],
   "name": "intermediate_colab.ipynb",
   "provenance": [],
   "toc_visible": true
  },
  "kernelspec": {
   "display_name": "Python 3",
   "name": "python3"
  },
  "language_info": {
   "codemirror_mode": {
    "name": "ipython",
    "version": 3
   },
   "file_extension": ".py",
   "mimetype": "text/x-python",
   "name": "python",
   "nbconvert_exporter": "python",
   "pygments_lexer": "ipython3",
   "version": "3.8.10"
  }
 },
 "nbformat": 4,
 "nbformat_minor": 0
}
