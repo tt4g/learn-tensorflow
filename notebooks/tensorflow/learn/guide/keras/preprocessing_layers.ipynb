{
 "cells": [
  {
   "cell_type": "code",
   "execution_count": 1,
   "metadata": {
    "cellView": "form",
    "execution": {
     "iopub.execute_input": "2021-11-12T19:46:50.741979Z",
     "iopub.status.busy": "2021-11-12T19:46:50.741267Z",
     "iopub.status.idle": "2021-11-12T19:46:50.743612Z",
     "shell.execute_reply": "2021-11-12T19:46:50.743978Z"
    },
    "id": "906e07f6e562"
   },
   "outputs": [],
   "source": [
    "#@title Licensed under the Apache License, Version 2.0 (the \"License\");\n",
    "# you may not use this file except in compliance with the License.\n",
    "# You may obtain a copy of the License at\n",
    "#\n",
    "# https://www.apache.org/licenses/LICENSE-2.0\n",
    "#\n",
    "# Unless required by applicable law or agreed to in writing, software\n",
    "# distributed under the License is distributed on an \"AS IS\" BASIS,\n",
    "# WITHOUT WARRANTIES OR CONDITIONS OF ANY KIND, either express or implied.\n",
    "# See the License for the specific language governing permissions and\n",
    "# limitations under the License."
   ]
  },
  {
   "cell_type": "markdown",
   "metadata": {
    "id": "b1d403f04693"
   },
   "source": [
    "# Working with preprocessing layers\n",
    "\n",
    "## Keras preprocessing\n",
    "\n",
    "The Keras preprocessing layers API allows developers to build Keras-native input\n",
    "processing pipelines. These input processing pipelines can be used as\n",
    "independent preprocessing code in non-Keras workflows, combined directly with\n",
    "Keras models, and exported as part of a Keras SavedModel.\n",
    "\n",
    "With Keras preprocessing layers, you can build and export models that are truly\n",
    "end-to-end: models that accept raw images or raw structured data as input;\n",
    "models that handle feature normalization or feature value indexing on their own."
   ]
  },
  {
   "cell_type": "markdown",
   "metadata": {
    "id": "313360fa9024"
   },
   "source": [
    "## Available preprocessing\n",
    "\n",
    "### Text preprocessing\n",
    "\n",
    "- `tf.keras.layers.TextVectorization`: turns raw strings into an encoded representation that can be read by an `Embedding` layer or `Dense` layer.\n",
    "\n",
    "### Numerical features preprocessing\n",
    "\n",
    "- `tf.keras.layers.Normalization`: performs feature-wise normalize of input features.\n",
    "- `tf.keras.layers.Discretization`: turns continuous numerical features into integer categorical features.\n",
    "\n",
    "### Categorical features preprocessing\n",
    "\n",
    "- `tf.keras.layers.CategoryEncoding`: turns integer categorical features into one-hot, multi-hot, or count dense representations.\n",
    "- `tf.keras.layers.Hashing`: performs categorical feature hashing, also known as the \"hashing trick\".\n",
    "- `tf.keras.layers.StringLookup`: turns string categorical values an encoded representation that can be read by an `Embedding` layer or `Dense` layer.\n",
    "- `tf.keras.layers.IntegerLookup`: turns integer categorical values into an encoded representation that can be read by an `Embedding` layer or `Dense` layer.\n",
    "\n",
    "\n",
    "### Image preprocessing\n",
    "\n",
    "These layers are for standardizing the inputs of an image model.\n",
    "\n",
    "- `tf.keras.layers.Resizing`: resizes a batch of images to a target size.\n",
    "- `tf.keras.layers.Rescaling`: rescales and offsets the values of a batch of\n",
    "  image (e.g. go from inputs in the `[0, 255]` range to inputs in the `[0, 1]` range.\n",
    "- `tf.keras.layers.CenterCrop`: returns a center crop of a batch of images.\n",
    "\n",
    "### Image data augmentation\n",
    "\n",
    "These layers apply random augmentation transforms to a batch of images. They\n",
    "are only active during training.\n",
    "\n",
    "- `tf.keras.layers.RandomCrop`\n",
    "- `tf.keras.layers.RandomFlip`\n",
    "- `tf.keras.layers.RandomTranslation`\n",
    "- `tf.keras.layers.RandomRotation`\n",
    "- `tf.keras.layers.RandomZoom`\n",
    "- `tf.keras.layers.RandomHeight`\n",
    "- `tf.keras.layers.RandomWidth`\n",
    "- `tf.keras.layers.RandomContrast`"
   ]
  },
  {
   "cell_type": "markdown",
   "metadata": {
    "id": "c923e41fb1b4"
   },
   "source": [
    "## The `adapt()` method\n",
    "\n",
    "Some preprocessing layers have an internal state that can be computed based on\n",
    "a sample of the training data. The list of stateful preprocessing layers is:\n",
    "\n",
    "- `TextVectorization`: holds a mapping between string tokens and integer indices\n",
    "- `StringLookup` and `IntegerLookup`: hold a mapping between input values and integer indices.\n",
    "- `Normalization`: holds the mean and standard deviation of the features.\n",
    "- `Discretization`: holds information about value bucket boundaries.\n",
    "\n",
    "Crucially, these layers are **non-trainable**. Their state is not set during\n",
    "training; it must be set **before training**, either by initializing them from\n",
    "a precomputed constant, or by \"adapting\" them on data.\n",
    "\n",
    "You set the state of a preprocessing layer by exposing it to training data, via\n",
    "the `adapt()` method:"
   ]
  },
  {
   "cell_type": "code",
   "execution_count": 2,
   "metadata": {
    "execution": {
     "iopub.execute_input": "2021-11-12T19:46:50.752341Z",
     "iopub.status.busy": "2021-11-12T19:46:50.751708Z",
     "iopub.status.idle": "2021-11-12T19:46:54.423686Z",
     "shell.execute_reply": "2021-11-12T19:46:54.424124Z"
    },
    "id": "4cac6bd80812"
   },
   "outputs": [
    {
     "name": "stderr",
     "output_type": "stream",
     "text": [
      "2022-02-20 00:19:41.987018: I tensorflow/core/platform/cpu_feature_guard.cc:151] This TensorFlow binary is optimized with oneAPI Deep Neural Network Library (oneDNN) to use the following CPU instructions in performance-critical operations:  AVX2 FMA\n",
      "To enable them in other operations, rebuild TensorFlow with the appropriate compiler flags.\n"
     ]
    },
    {
     "name": "stdout",
     "output_type": "stream",
     "text": [
      "Features mean: -0.00\n",
      "Features std: 1.00\n"
     ]
    }
   ],
   "source": [
    "import numpy as np\n",
    "import tensorflow as tf\n",
    "from tensorflow.keras import layers\n",
    "\n",
    "data = np.array([[0.1, 0.2, 0.3], [0.8, 0.9, 1.0], [1.5, 1.6, 1.7],])\n",
    "layer = layers.Normalization()\n",
    "layer.adapt(data)\n",
    "normalized_data = layer(data)\n",
    "\n",
    "print(\"Features mean: %.2f\" % (normalized_data.numpy().mean()))\n",
    "print(\"Features std: %.2f\" % (normalized_data.numpy().std()))"
   ]
  },
  {
   "cell_type": "markdown",
   "metadata": {
    "id": "d43b8246b8a3"
   },
   "source": [
    "The `adapt()` method takes either a Numpy array or a `tf.data.Dataset` object.\n",
    "In the case of `StringLookup` and `TextVectorization`, you can also pass a list\n",
    "of strings:"
   ]
  },
  {
   "cell_type": "code",
   "execution_count": 3,
   "metadata": {
    "execution": {
     "iopub.execute_input": "2021-11-12T19:46:54.433002Z",
     "iopub.status.busy": "2021-11-12T19:46:54.432318Z",
     "iopub.status.idle": "2021-11-12T19:46:54.527457Z",
     "shell.execute_reply": "2021-11-12T19:46:54.527857Z"
    },
    "id": "48d95713348a"
   },
   "outputs": [
    {
     "name": "stdout",
     "output_type": "stream",
     "text": [
      "tf.Tensor(\n",
      "[[37 12 25  5  9 20 21  0  0]\n",
      " [51 34 27 33 29 18  0  0  0]\n",
      " [49 52 30 31 19 46 10  0  0]\n",
      " [ 7  5 50 43 28  7 47 17  0]\n",
      " [24 35 39 40  3  6 32 16  0]\n",
      " [ 4  2 15 14 22 23  0  0  0]\n",
      " [36 48  6 38 42  3 45  0  0]\n",
      " [ 4  2 13 41 53  8 44 26 11]], shape=(8, 9), dtype=int64)\n"
     ]
    }
   ],
   "source": [
    "data = [\n",
    "    \"ξεῖν᾽, ἦ τοι μὲν ὄνειροι ἀμήχανοι ἀκριτόμυθοι\",\n",
    "    \"γίγνοντ᾽, οὐδέ τι πάντα τελείεται ἀνθρώποισι.\",\n",
    "    \"δοιαὶ γάρ τε πύλαι ἀμενηνῶν εἰσὶν ὀνείρων:\",\n",
    "    \"αἱ μὲν γὰρ κεράεσσι τετεύχαται, αἱ δ᾽ ἐλέφαντι:\",\n",
    "    \"τῶν οἳ μέν κ᾽ ἔλθωσι διὰ πριστοῦ ἐλέφαντος,\",\n",
    "    \"οἵ ῥ᾽ ἐλεφαίρονται, ἔπε᾽ ἀκράαντα φέροντες:\",\n",
    "    \"οἱ δὲ διὰ ξεστῶν κεράων ἔλθωσι θύραζε,\",\n",
    "    \"οἵ ῥ᾽ ἔτυμα κραίνουσι, βροτῶν ὅτε κέν τις ἴδηται.\",\n",
    "]\n",
    "layer = layers.TextVectorization()\n",
    "layer.adapt(data)\n",
    "vectorized_text = layer(data)\n",
    "print(vectorized_text)"
   ]
  },
  {
   "cell_type": "markdown",
   "metadata": {
    "id": "7619914dfb40"
   },
   "source": [
    "In addition, adaptable layers always expose an option to directly set state via\n",
    "constructor arguments or weight assignment. If the intended state values are\n",
    "known at layer construction time, or are calculated outside of the `adapt()`\n",
    "call, they can be set without relying on the layer's internal computation. For\n",
    "instance, if external vocabulary files for the `TextVectorization`,\n",
    "`StringLookup`, or `IntegerLookup` layers already exist, those can be loaded\n",
    "directly into the lookup tables by passing a path to the vocabulary file in the\n",
    "layer's constructor arguments.\n",
    "\n",
    "Here's an example where we instantiate a `StringLookup` layer with precomputed\n",
    "vocabulary:"
   ]
  },
  {
   "cell_type": "code",
   "execution_count": 4,
   "metadata": {
    "execution": {
     "iopub.execute_input": "2021-11-12T19:46:54.533999Z",
     "iopub.status.busy": "2021-11-12T19:46:54.533382Z",
     "iopub.status.idle": "2021-11-12T19:46:54.537527Z",
     "shell.execute_reply": "2021-11-12T19:46:54.537905Z"
    },
    "id": "9df56efc7f3b"
   },
   "outputs": [
    {
     "name": "stdout",
     "output_type": "stream",
     "text": [
      "tf.Tensor(\n",
      "[[1 3 4]\n",
      " [4 0 2]], shape=(2, 3), dtype=int64)\n"
     ]
    }
   ],
   "source": [
    "vocab = [\"a\", \"b\", \"c\", \"d\"]\n",
    "data = tf.constant([[\"a\", \"c\", \"d\"], [\"d\", \"z\", \"b\"]])\n",
    "layer = layers.StringLookup(vocabulary=vocab)\n",
    "vectorized_data = layer(data)\n",
    "print(vectorized_data)"
   ]
  },
  {
   "cell_type": "markdown",
   "metadata": {
    "id": "49cbfe135b00"
   },
   "source": [
    "## Preprocessing data before the model or inside the model\n",
    "\n",
    "There are two ways you could be using preprocessing layers:\n",
    "\n",
    "**Option 1:** Make them part of the model, like this:\n",
    "\n",
    "```python\n",
    "inputs = keras.Input(shape=input_shape)\n",
    "x = preprocessing_layer(inputs)\n",
    "outputs = rest_of_the_model(x)\n",
    "model = keras.Model(inputs, outputs)\n",
    "```\n",
    "\n",
    "With this option, preprocessing will happen on device, synchronously with the\n",
    "rest of the model execution, meaning that it will benefit from GPU acceleration.\n",
    "If you're training on GPU, this is the best option for the `Normalization`\n",
    "layer, and for all image preprocessing and data augmentation layers.\n",
    "\n",
    "**Option 2:** apply it to your `tf.data.Dataset`, so as to obtain a dataset that\n",
    "yields batches of preprocessed data, like this:\n",
    "\n",
    "```python\n",
    "dataset = dataset.map(lambda x, y: (preprocessing_layer(x), y))\n",
    "```\n",
    "\n",
    "With this option, your preprocessing will happen on CPU, asynchronously, and\n",
    "will be buffered before going into the model.\n",
    "In addition, if you call `dataset.prefetch(tf.data.AUTOTUNE)` on your dataset,\n",
    "the preprocessing will happen efficiently in parallel with training:\n",
    "\n",
    "```python\n",
    "dataset = dataset.map(lambda x, y: (preprocessing_layer(x), y))\n",
    "dataset = dataset.prefetch(tf.data.AUTOTUNE)\n",
    "model.fit(dataset, ...)\n",
    "```\n",
    "\n",
    "This is the best option for `TextVectorization`, and all structured data\n",
    "preprocessing layers. It can also be a good option if you're training on CPU\n",
    "and you use image preprocessing layers.\n",
    "\n",
    "**When running on TPU, you should always place preprocessing layers in the `tf.data` pipeline**\n",
    "(with the exception of `Normalization` and `Rescaling`, which run fine on TPU\n",
    "and are commonly used as the first layer is an image model)."
   ]
  },
  {
   "cell_type": "markdown",
   "metadata": {
    "id": "32f6d2a104b7"
   },
   "source": [
    "## Benefits of doing preprocessing inside the model at inference time\n",
    "\n",
    "Even if you go with option 2, you may later want to export an inference-only\n",
    "end-to-end model that will include the preprocessing layers. The key benefit to\n",
    "doing this is that **it makes your model portable** and it\n",
    "**helps reduce the [training/serving skew](https://developers.google.com/machine-learning/guides/rules-of-ml#training-serving_skew)**.\n",
    "\n",
    "When all data preprocessing is part of the model, other people can load and use\n",
    "your model without having to be aware of how each feature is expected to be\n",
    "encoded & normalized. Your inference model will be able to process raw images or\n",
    "raw structured data, and will not require users of the model to be aware of the\n",
    "details of e.g. the tokenization scheme used for text, the indexing scheme used\n",
    "for categorical features, whether image pixel values are normalized to\n",
    "`[-1, +1]` or to `[0, 1]`, etc. This is especially powerful if you're exporting\n",
    "your model to another runtime, such as TensorFlow.js: you won't have to\n",
    "reimplement your preprocessing pipeline in JavaScript.\n",
    "\n",
    "If you initially put your preprocessing layers in your `tf.data` pipeline,\n",
    "you can export an inference model that packages the preprocessing.\n",
    "Simply instantiate a new model that chains\n",
    "your preprocessing layers and your training model:\n",
    "\n",
    "```python\n",
    "inputs = keras.Input(shape=input_shape)\n",
    "x = preprocessing_layer(inputs)\n",
    "outputs = training_model(x)\n",
    "inference_model = keras.Model(inputs, outputs)\n",
    "```"
   ]
  },
  {
   "cell_type": "markdown",
   "metadata": {
    "id": "b41b381d48d4"
   },
   "source": [
    "## Quick recipes\n",
    "\n",
    "### Image data augmentation\n",
    "\n",
    "Note that image data augmentation layers are only active during training\n",
    "(similarly to the `Dropout` layer)."
   ]
  },
  {
   "cell_type": "code",
   "execution_count": 5,
   "metadata": {
    "execution": {
     "iopub.execute_input": "2021-11-12T19:46:54.548692Z",
     "iopub.status.busy": "2021-11-12T19:46:54.548102Z",
     "iopub.status.idle": "2021-11-12T19:47:16.817133Z",
     "shell.execute_reply": "2021-11-12T19:47:16.816610Z"
    },
    "id": "a3793692e983"
   },
   "outputs": [
    {
     "name": "stdout",
     "output_type": "stream",
     "text": [
      "Downloading data from https://www.cs.toronto.edu/~kriz/cifar-10-python.tar.gz\n",
      "170500096/170498071 [==============================] - 222s 1us/step\n",
      "170508288/170498071 [==============================] - 222s 1us/step\n",
      "5/5 [==============================] - 12s 679ms/step - loss: 8.8809\n"
     ]
    },
    {
     "data": {
      "text/plain": [
       "<keras.callbacks.History at 0x7f7fa436e580>"
      ]
     },
     "execution_count": 5,
     "metadata": {},
     "output_type": "execute_result"
    }
   ],
   "source": [
    "from tensorflow import keras\n",
    "from tensorflow.keras import layers\n",
    "\n",
    "# Create a data augmentation stage with horizontal flipping, rotations, zooms\n",
    "data_augmentation = keras.Sequential(\n",
    "    [\n",
    "        layers.RandomFlip(\"horizontal\"),\n",
    "        layers.RandomRotation(0.1),\n",
    "        layers.RandomZoom(0.1),\n",
    "    ]\n",
    ")\n",
    "\n",
    "# Load some data\n",
    "(x_train, y_train), _ = keras.datasets.cifar10.load_data()\n",
    "input_shape = x_train.shape[1:]\n",
    "classes = 10\n",
    "\n",
    "# Create a tf.data pipeline of augmented images (and their labels)\n",
    "train_dataset = tf.data.Dataset.from_tensor_slices((x_train, y_train))\n",
    "train_dataset = train_dataset.batch(16).map(lambda x, y: (data_augmentation(x), y))\n",
    "\n",
    "\n",
    "# Create a model and train it on the augmented image data\n",
    "inputs = keras.Input(shape=input_shape)\n",
    "x = layers.Rescaling(1.0 / 255)(inputs)  # Rescale inputs\n",
    "outputs = keras.applications.ResNet50(  # Add the rest of the model\n",
    "    weights=None, input_shape=input_shape, classes=classes\n",
    ")(x)\n",
    "model = keras.Model(inputs, outputs)\n",
    "model.compile(optimizer=\"rmsprop\", loss=\"sparse_categorical_crossentropy\")\n",
    "model.fit(train_dataset, steps_per_epoch=5)"
   ]
  },
  {
   "cell_type": "markdown",
   "metadata": {
    "id": "51d369f0310f"
   },
   "source": [
    "You can see a similar setup in action in the example\n",
    "[image classification from scratch](https://keras.io/examples/vision/image_classification_from_scratch/)."
   ]
  },
  {
   "cell_type": "markdown",
   "metadata": {
    "id": "a79a1c48b2b7"
   },
   "source": [
    "### Normalizing numerical features"
   ]
  },
  {
   "cell_type": "code",
   "execution_count": 6,
   "metadata": {
    "execution": {
     "iopub.execute_input": "2021-11-12T19:47:16.823183Z",
     "iopub.status.busy": "2021-11-12T19:47:16.822601Z",
     "iopub.status.idle": "2021-11-12T19:47:23.338185Z",
     "shell.execute_reply": "2021-11-12T19:47:23.338573Z"
    },
    "id": "9cc2607a45c8"
   },
   "outputs": [
    {
     "name": "stdout",
     "output_type": "stream",
     "text": [
      "1563/1563 [==============================] - 3s 2ms/step - loss: 2.1287\n"
     ]
    },
    {
     "data": {
      "text/plain": [
       "<keras.callbacks.History at 0x7f7f8e17c7c0>"
      ]
     },
     "execution_count": 6,
     "metadata": {},
     "output_type": "execute_result"
    }
   ],
   "source": [
    "# Load some data\n",
    "(x_train, y_train), _ = keras.datasets.cifar10.load_data()\n",
    "x_train = x_train.reshape((len(x_train), -1))\n",
    "input_shape = x_train.shape[1:]\n",
    "classes = 10\n",
    "\n",
    "# Create a Normalization layer and set its internal state using the training data\n",
    "normalizer = layers.Normalization()\n",
    "normalizer.adapt(x_train)\n",
    "\n",
    "# Create a model that include the normalization layer\n",
    "inputs = keras.Input(shape=input_shape)\n",
    "x = normalizer(inputs)\n",
    "outputs = layers.Dense(classes, activation=\"softmax\")(x)\n",
    "model = keras.Model(inputs, outputs)\n",
    "\n",
    "# Train the model\n",
    "model.compile(optimizer=\"adam\", loss=\"sparse_categorical_crossentropy\")\n",
    "model.fit(x_train, y_train)"
   ]
  },
  {
   "cell_type": "markdown",
   "metadata": {
    "id": "62685d477010"
   },
   "source": [
    "### Encoding string categorical features via one-hot encoding"
   ]
  },
  {
   "cell_type": "code",
   "execution_count": 7,
   "metadata": {
    "execution": {
     "iopub.execute_input": "2021-11-12T19:47:23.345060Z",
     "iopub.status.busy": "2021-11-12T19:47:23.344442Z",
     "iopub.status.idle": "2021-11-12T19:47:23.403353Z",
     "shell.execute_reply": "2021-11-12T19:47:23.403716Z"
    },
    "id": "ae0d2b0405f1"
   },
   "outputs": [
    {
     "name": "stdout",
     "output_type": "stream",
     "text": [
      "tf.Tensor(\n",
      "[[0. 0. 0. 1.]\n",
      " [0. 0. 1. 0.]\n",
      " [0. 1. 0. 0.]\n",
      " [1. 0. 0. 0.]\n",
      " [1. 0. 0. 0.]\n",
      " [1. 0. 0. 0.]], shape=(6, 4), dtype=float32)\n"
     ]
    }
   ],
   "source": [
    "# Define some toy data\n",
    "data = tf.constant([[\"a\"], [\"b\"], [\"c\"], [\"b\"], [\"c\"], [\"a\"]])\n",
    "\n",
    "# Use StringLookup to build an index of the feature values and encode output.\n",
    "lookup = layers.StringLookup(output_mode=\"one_hot\")\n",
    "lookup.adapt(data)\n",
    "\n",
    "# Convert new test data (which includes unknown feature values)\n",
    "test_data = tf.constant([[\"a\"], [\"b\"], [\"c\"], [\"d\"], [\"e\"], [\"\"]])\n",
    "encoded_data = lookup(test_data)\n",
    "print(encoded_data)"
   ]
  },
  {
   "cell_type": "markdown",
   "metadata": {
    "id": "686aeda532f5"
   },
   "source": [
    "Note that, here, index 0 is reserved for out-of-vocabulary values\n",
    "(values that were not seen during `adapt()`).\n",
    "\n",
    "You can see the `StringLookup` in action in the\n",
    "[Structured data classification from scratch](https://keras.io/examples/structured_data/structured_data_classification_from_scratch/)\n",
    "example."
   ]
  },
  {
   "cell_type": "markdown",
   "metadata": {
    "id": "dc8af3e290df"
   },
   "source": [
    "### Encoding integer categorical features via one-hot encoding"
   ]
  },
  {
   "cell_type": "code",
   "execution_count": 8,
   "metadata": {
    "execution": {
     "iopub.execute_input": "2021-11-12T19:47:23.411229Z",
     "iopub.status.busy": "2021-11-12T19:47:23.410616Z",
     "iopub.status.idle": "2021-11-12T19:47:23.472822Z",
     "shell.execute_reply": "2021-11-12T19:47:23.473282Z"
    },
    "id": "75f3d6af4522"
   },
   "outputs": [
    {
     "name": "stdout",
     "output_type": "stream",
     "text": [
      "tf.Tensor(\n",
      "[[0. 0. 1. 0. 0.]\n",
      " [0. 0. 1. 0. 0.]\n",
      " [0. 1. 0. 0. 0.]\n",
      " [1. 0. 0. 0. 0.]\n",
      " [1. 0. 0. 0. 0.]\n",
      " [0. 0. 0. 0. 1.]], shape=(6, 5), dtype=float32)\n"
     ]
    }
   ],
   "source": [
    "# Define some toy data\n",
    "data = tf.constant([[10], [20], [20], [10], [30], [0]])\n",
    "\n",
    "# Use IntegerLookup to build an index of the feature values and encode output.\n",
    "lookup = layers.IntegerLookup(output_mode=\"one_hot\")\n",
    "lookup.adapt(data)\n",
    "\n",
    "# Convert new test data (which includes unknown feature values)\n",
    "test_data = tf.constant([[10], [10], [20], [50], [60], [0]])\n",
    "encoded_data = lookup(test_data)\n",
    "print(encoded_data)"
   ]
  },
  {
   "cell_type": "markdown",
   "metadata": {
    "id": "da5a6be487be"
   },
   "source": [
    "Note that index 0 is reserved for missing values (which you should specify as\n",
    "the value 0), and index 1 is reserved for out-of-vocabulary values (values that\n",
    "were not seen during `adapt()`). You can configure this by using the\n",
    "`mask_token` and `oov_token` constructor arguments  of `IntegerLookup`.\n",
    "\n",
    "You can see the `IntegerLookup` in action in the example\n",
    "[structured data classification from scratch](https://keras.io/examples/structured_data/structured_data_classification_from_scratch/)."
   ]
  },
  {
   "cell_type": "markdown",
   "metadata": {
    "id": "8fbfaa6ab3e2"
   },
   "source": [
    "### Applying the hashing trick to an integer categorical feature\n",
    "\n",
    "If you have a categorical feature that can take many different values (on the\n",
    "order of 10e3 or higher), where each value only appears a few times in the data,\n",
    "it becomes impractical and ineffective to index and one-hot encode the feature\n",
    "values. Instead, it can be a good idea to apply the \"hashing trick\": hash the\n",
    "values to a vector of fixed size. This keeps the size of the feature space\n",
    "manageable, and removes the need for explicit indexing."
   ]
  },
  {
   "cell_type": "code",
   "execution_count": 9,
   "metadata": {
    "execution": {
     "iopub.execute_input": "2021-11-12T19:47:23.480156Z",
     "iopub.status.busy": "2021-11-12T19:47:23.479497Z",
     "iopub.status.idle": "2021-11-12T19:47:23.487609Z",
     "shell.execute_reply": "2021-11-12T19:47:23.487998Z"
    },
    "id": "8f6c1f84c43c"
   },
   "outputs": [
    {
     "name": "stdout",
     "output_type": "stream",
     "text": [
      "(10000, 64)\n"
     ]
    }
   ],
   "source": [
    "# Sample data: 10,000 random integers with values between 0 and 100,000\n",
    "data = np.random.randint(0, 100000, size=(10000, 1))\n",
    "\n",
    "# Use the Hashing layer to hash the values to the range [0, 64]\n",
    "hasher = layers.Hashing(num_bins=64, salt=1337)\n",
    "\n",
    "# Use the CategoryEncoding layer to multi-hot encode the hashed values\n",
    "encoder = layers.CategoryEncoding(num_tokens=64, output_mode=\"multi_hot\")\n",
    "encoded_data = encoder(hasher(data))\n",
    "print(encoded_data.shape)"
   ]
  },
  {
   "cell_type": "markdown",
   "metadata": {
    "id": "df69b434d327"
   },
   "source": [
    "### Encoding text as a sequence of token indices\n",
    "\n",
    "This is how you should preprocess text to be passed to an `Embedding` layer."
   ]
  },
  {
   "cell_type": "code",
   "execution_count": 10,
   "metadata": {
    "execution": {
     "iopub.execute_input": "2021-11-12T19:47:23.497851Z",
     "iopub.status.busy": "2021-11-12T19:47:23.497194Z",
     "iopub.status.idle": "2021-11-12T19:47:27.040607Z",
     "shell.execute_reply": "2021-11-12T19:47:27.041017Z"
    },
    "id": "361b561bc88b"
   },
   "outputs": [
    {
     "name": "stdout",
     "output_type": "stream",
     "text": [
      "Encoded text:\n",
      " [[ 2 19 14  1  9  2  1]]\n",
      "\n",
      "Training model...\n",
      "1/1 [==============================] - 2s 2s/step - loss: 0.5011\n",
      "\n",
      "Calling end-to-end model on test string...\n",
      "Model output: tf.Tensor([[0.04159769]], shape=(1, 1), dtype=float32)\n"
     ]
    }
   ],
   "source": [
    "# Define some text data to adapt the layer\n",
    "adapt_data = tf.constant(\n",
    "    [\n",
    "        \"The Brain is wider than the Sky\",\n",
    "        \"For put them side by side\",\n",
    "        \"The one the other will contain\",\n",
    "        \"With ease and You beside\",\n",
    "    ]\n",
    ")\n",
    "\n",
    "# Create a TextVectorization layer\n",
    "text_vectorizer = layers.TextVectorization(output_mode=\"int\")\n",
    "# Index the vocabulary via `adapt()`\n",
    "text_vectorizer.adapt(adapt_data)\n",
    "\n",
    "# Try out the layer\n",
    "print(\n",
    "    \"Encoded text:\\n\", text_vectorizer([\"The Brain is deeper than the sea\"]).numpy(),\n",
    ")\n",
    "\n",
    "# Create a simple model\n",
    "inputs = keras.Input(shape=(None,), dtype=\"int64\")\n",
    "x = layers.Embedding(input_dim=text_vectorizer.vocabulary_size(), output_dim=16)(inputs)\n",
    "x = layers.GRU(8)(x)\n",
    "outputs = layers.Dense(1)(x)\n",
    "model = keras.Model(inputs, outputs)\n",
    "\n",
    "# Create a labeled dataset (which includes unknown tokens)\n",
    "train_dataset = tf.data.Dataset.from_tensor_slices(\n",
    "    ([\"The Brain is deeper than the sea\", \"for if they are held Blue to Blue\"], [1, 0])\n",
    ")\n",
    "\n",
    "# Preprocess the string inputs, turning them into int sequences\n",
    "train_dataset = train_dataset.batch(2).map(lambda x, y: (text_vectorizer(x), y))\n",
    "# Train the model on the int sequences\n",
    "print(\"\\nTraining model...\")\n",
    "model.compile(optimizer=\"rmsprop\", loss=\"mse\")\n",
    "model.fit(train_dataset)\n",
    "\n",
    "# For inference, you can export a model that accepts strings as input\n",
    "inputs = keras.Input(shape=(1,), dtype=\"string\")\n",
    "x = text_vectorizer(inputs)\n",
    "outputs = model(x)\n",
    "end_to_end_model = keras.Model(inputs, outputs)\n",
    "\n",
    "# Call the end-to-end model on test data (which includes unknown tokens)\n",
    "print(\"\\nCalling end-to-end model on test string...\")\n",
    "test_data = tf.constant([\"The one the other will absorb\"])\n",
    "test_output = end_to_end_model(test_data)\n",
    "print(\"Model output:\", test_output)"
   ]
  },
  {
   "cell_type": "markdown",
   "metadata": {
    "id": "e725dbcae3e4"
   },
   "source": [
    "You can see the `TextVectorization` layer in action, combined with an\n",
    "`Embedding` mode, in the example\n",
    "[text classification from scratch](https://keras.io/examples/nlp/text_classification_from_scratch/).\n",
    "\n",
    "Note that when training such a model, for best performance, you should always\n",
    "use the `TextVectorization` layer as part of the input pipeline."
   ]
  },
  {
   "cell_type": "markdown",
   "metadata": {
    "id": "28c2f2ff61fb"
   },
   "source": [
    "### Encoding text as a dense matrix of ngrams with multi-hot encoding\n",
    "\n",
    "This is how you should preprocess text to be passed to a `Dense` layer."
   ]
  },
  {
   "cell_type": "code",
   "execution_count": 11,
   "metadata": {
    "execution": {
     "iopub.execute_input": "2021-11-12T19:47:27.051048Z",
     "iopub.status.busy": "2021-11-12T19:47:27.050405Z",
     "iopub.status.idle": "2021-11-12T19:47:27.531477Z",
     "shell.execute_reply": "2021-11-12T19:47:27.531837Z"
    },
    "id": "7bae1c223cd8"
   },
   "outputs": [
    {
     "name": "stdout",
     "output_type": "stream",
     "text": [
      "WARNING:tensorflow:5 out of the last 1567 calls to <function PreprocessingLayer.make_adapt_function.<locals>.adapt_step at 0x7f7f8eff6430> triggered tf.function retracing. Tracing is expensive and the excessive number of tracings could be due to (1) creating @tf.function repeatedly in a loop, (2) passing tensors with different shapes, (3) passing Python objects instead of tensors. For (1), please define your @tf.function outside of the loop. For (2), @tf.function has experimental_relax_shapes=True option that relaxes argument shapes that can avoid unnecessary retracing. For (3), please refer to https://www.tensorflow.org/guide/function#controlling_retracing and https://www.tensorflow.org/api_docs/python/tf/function for  more details.\n",
      "Encoded text:\n",
      " [[1. 1. 0. 0. 0. 0. 0. 0. 0. 0. 0. 0. 0. 0. 0. 0. 1. 1. 1. 0. 0. 0. 0. 0.\n",
      "  0. 0. 0. 0. 1. 0. 0. 0. 0. 0. 0. 0. 1. 1. 0. 0. 0.]]\n",
      "\n",
      "Training model...\n",
      "1/1 [==============================] - 0s 243ms/step - loss: 0.1657\n",
      "\n",
      "Calling end-to-end model on test string...\n",
      "Model output: tf.Tensor([[0.4713283]], shape=(1, 1), dtype=float32)\n"
     ]
    }
   ],
   "source": [
    "# Define some text data to adapt the layer\n",
    "adapt_data = tf.constant(\n",
    "    [\n",
    "        \"The Brain is wider than the Sky\",\n",
    "        \"For put them side by side\",\n",
    "        \"The one the other will contain\",\n",
    "        \"With ease and You beside\",\n",
    "    ]\n",
    ")\n",
    "# Instantiate TextVectorization with \"multi_hot\" output_mode\n",
    "# and ngrams=2 (index all bigrams)\n",
    "text_vectorizer = layers.TextVectorization(output_mode=\"multi_hot\", ngrams=2)\n",
    "# Index the bigrams via `adapt()`\n",
    "text_vectorizer.adapt(adapt_data)\n",
    "\n",
    "# Try out the layer\n",
    "print(\n",
    "    \"Encoded text:\\n\", text_vectorizer([\"The Brain is deeper than the sea\"]).numpy(),\n",
    ")\n",
    "\n",
    "# Create a simple model\n",
    "inputs = keras.Input(shape=(text_vectorizer.vocabulary_size(),))\n",
    "outputs = layers.Dense(1)(inputs)\n",
    "model = keras.Model(inputs, outputs)\n",
    "\n",
    "# Create a labeled dataset (which includes unknown tokens)\n",
    "train_dataset = tf.data.Dataset.from_tensor_slices(\n",
    "    ([\"The Brain is deeper than the sea\", \"for if they are held Blue to Blue\"], [1, 0])\n",
    ")\n",
    "\n",
    "# Preprocess the string inputs, turning them into int sequences\n",
    "train_dataset = train_dataset.batch(2).map(lambda x, y: (text_vectorizer(x), y))\n",
    "# Train the model on the int sequences\n",
    "print(\"\\nTraining model...\")\n",
    "model.compile(optimizer=\"rmsprop\", loss=\"mse\")\n",
    "model.fit(train_dataset)\n",
    "\n",
    "# For inference, you can export a model that accepts strings as input\n",
    "inputs = keras.Input(shape=(1,), dtype=\"string\")\n",
    "x = text_vectorizer(inputs)\n",
    "outputs = model(x)\n",
    "end_to_end_model = keras.Model(inputs, outputs)\n",
    "\n",
    "# Call the end-to-end model on test data (which includes unknown tokens)\n",
    "print(\"\\nCalling end-to-end model on test string...\")\n",
    "test_data = tf.constant([\"The one the other will absorb\"])\n",
    "test_output = end_to_end_model(test_data)\n",
    "print(\"Model output:\", test_output)"
   ]
  },
  {
   "cell_type": "markdown",
   "metadata": {
    "id": "336a4d3426ed"
   },
   "source": [
    "### Encoding text as a dense matrix of ngrams with TF-IDF weighting\n",
    "\n",
    "This is an alternative way of preprocessing text before passing it to a `Dense`\n",
    "layer."
   ]
  },
  {
   "cell_type": "code",
   "execution_count": 12,
   "metadata": {
    "execution": {
     "iopub.execute_input": "2021-11-12T19:47:27.542183Z",
     "iopub.status.busy": "2021-11-12T19:47:27.541552Z",
     "iopub.status.idle": "2021-11-12T19:47:28.092695Z",
     "shell.execute_reply": "2021-11-12T19:47:28.093142Z"
    },
    "id": "5b6c0fec928e"
   },
   "outputs": [
    {
     "name": "stdout",
     "output_type": "stream",
     "text": [
      "WARNING:tensorflow:6 out of the last 1568 calls to <function PreprocessingLayer.make_adapt_function.<locals>.adapt_step at 0x7f7fa44708b0> triggered tf.function retracing. Tracing is expensive and the excessive number of tracings could be due to (1) creating @tf.function repeatedly in a loop, (2) passing tensors with different shapes, (3) passing Python objects instead of tensors. For (1), please define your @tf.function outside of the loop. For (2), @tf.function has experimental_relax_shapes=True option that relaxes argument shapes that can avoid unnecessary retracing. For (3), please refer to https://www.tensorflow.org/guide/function#controlling_retracing and https://www.tensorflow.org/api_docs/python/tf/function for  more details.\n",
      "Encoded text:\n",
      " [[5.461647  1.6945957 0.        0.        0.        0.        0.\n",
      "  0.        0.        0.        0.        0.        0.        0.\n",
      "  0.        0.        1.0986123 1.0986123 1.0986123 0.        0.\n",
      "  0.        0.        0.        0.        0.        0.        0.\n",
      "  1.0986123 0.        0.        0.        0.        0.        0.\n",
      "  0.        1.0986123 1.0986123 0.        0.        0.       ]]\n",
      "\n",
      "Training model...\n",
      "1/1 [==============================] - 0s 221ms/step - loss: 0.2699\n",
      "\n",
      "Calling end-to-end model on test string...\n",
      "Model output: tf.Tensor([[0.5025312]], shape=(1, 1), dtype=float32)\n"
     ]
    }
   ],
   "source": [
    "# Define some text data to adapt the layer\n",
    "adapt_data = tf.constant(\n",
    "    [\n",
    "        \"The Brain is wider than the Sky\",\n",
    "        \"For put them side by side\",\n",
    "        \"The one the other will contain\",\n",
    "        \"With ease and You beside\",\n",
    "    ]\n",
    ")\n",
    "# Instantiate TextVectorization with \"tf-idf\" output_mode\n",
    "# (multi-hot with TF-IDF weighting) and ngrams=2 (index all bigrams)\n",
    "text_vectorizer = layers.TextVectorization(output_mode=\"tf-idf\", ngrams=2)\n",
    "# Index the bigrams and learn the TF-IDF weights via `adapt()`\n",
    "\n",
    "with tf.device(\"CPU\"):\n",
    "    # A bug that prevents this from running on GPU for now.\n",
    "    text_vectorizer.adapt(adapt_data)\n",
    "\n",
    "# Try out the layer\n",
    "print(\n",
    "    \"Encoded text:\\n\", text_vectorizer([\"The Brain is deeper than the sea\"]).numpy(),\n",
    ")\n",
    "\n",
    "# Create a simple model\n",
    "inputs = keras.Input(shape=(text_vectorizer.vocabulary_size(),))\n",
    "outputs = layers.Dense(1)(inputs)\n",
    "model = keras.Model(inputs, outputs)\n",
    "\n",
    "# Create a labeled dataset (which includes unknown tokens)\n",
    "train_dataset = tf.data.Dataset.from_tensor_slices(\n",
    "    ([\"The Brain is deeper than the sea\", \"for if they are held Blue to Blue\"], [1, 0])\n",
    ")\n",
    "\n",
    "# Preprocess the string inputs, turning them into int sequences\n",
    "train_dataset = train_dataset.batch(2).map(lambda x, y: (text_vectorizer(x), y))\n",
    "# Train the model on the int sequences\n",
    "print(\"\\nTraining model...\")\n",
    "model.compile(optimizer=\"rmsprop\", loss=\"mse\")\n",
    "model.fit(train_dataset)\n",
    "\n",
    "# For inference, you can export a model that accepts strings as input\n",
    "inputs = keras.Input(shape=(1,), dtype=\"string\")\n",
    "x = text_vectorizer(inputs)\n",
    "outputs = model(x)\n",
    "end_to_end_model = keras.Model(inputs, outputs)\n",
    "\n",
    "# Call the end-to-end model on test data (which includes unknown tokens)\n",
    "print(\"\\nCalling end-to-end model on test string...\")\n",
    "test_data = tf.constant([\"The one the other will absorb\"])\n",
    "test_output = end_to_end_model(test_data)\n",
    "print(\"Model output:\", test_output)\n"
   ]
  },
  {
   "cell_type": "markdown",
   "metadata": {
    "id": "143ce01c5558"
   },
   "source": [
    "## Important gotchas\n",
    "\n",
    "### Working with lookup layers with very large vocabularies\n",
    "\n",
    "You may find yourself working with a very large vocabulary in a\n",
    "`TextVectorization`, a `StringLookup` layer, or an `IntegerLookup` layer.\n",
    "Typically, a vocabulary larger than 500MB would be considered \"very large\".\n",
    "\n",
    "In such case, for best performance, you should avoid using `adapt()`. Instead,\n",
    "pre-compute your vocabulary in advance (you could use Apache Beam or TF\n",
    "Transform for this) and store it in a file. Then load the vocabulary into the\n",
    "layer at construction time by passing the filepath as the `vocabulary` argument.\n",
    "\n",
    "\n",
    "### Using lookup layers on a TPU pod or with `ParameterServerStrategy`.\n",
    "\n",
    "There is an outstanding issue that causes performance to degrade when using a\n",
    "`TextVectorization`, `StringLookup`, or `IntegerLookup` layer while training on\n",
    "a TPU pod or on multiple machines via `ParameterServerStrategy`. This is slated\n",
    "to be fixed in TensorFlow 2.7."
   ]
  }
 ],
 "metadata": {
  "colab": {
   "collapsed_sections": [],
   "name": "preprocessing_layers.ipynb",
   "toc_visible": true
  },
  "kernelspec": {
   "display_name": "Python 3",
   "name": "python3"
  },
  "language_info": {
   "codemirror_mode": {
    "name": "ipython",
    "version": 3
   },
   "file_extension": ".py",
   "mimetype": "text/x-python",
   "name": "python",
   "nbconvert_exporter": "python",
   "pygments_lexer": "ipython3",
   "version": "3.8.10"
  }
 },
 "nbformat": 4,
 "nbformat_minor": 0
}
