{
 "cells": [
  {
   "cell_type": "code",
   "execution_count": 46,
   "source": [
    "import numpy as np\n",
    "from sklearn.datasets import load_iris\n",
    "from sklearn.model_selection import train_test_split\n",
    "import tensorflow as tf\n",
    "from matplotlib import pyplot as plt"
   ],
   "outputs": [],
   "metadata": {}
  },
  {
   "cell_type": "code",
   "execution_count": 27,
   "source": [
    "iris = load_iris()\n",
    "\n",
    "print(rf\"iris.filename: {iris.filename}\")"
   ],
   "outputs": [
    {
     "output_type": "stream",
     "name": "stdout",
     "text": [
      "iris.filename: /usr/local/lib/python3.6/dist-packages/sklearn/datasets/data/iris.csv\n"
     ]
    }
   ],
   "metadata": {}
  },
  {
   "cell_type": "code",
   "execution_count": 28,
   "source": [
    "iris_data = iris.data\n",
    "iris_target = iris.target\n",
    "iris_target_names = iris.target_names\n",
    "iris_feature_names = iris.feature_names\n",
    "\n",
    "print(rf\"iris_target_names: {iris_target_names}\")\n",
    "print(rf\"iris_target: {np.sort(np.unique(iris_target))}\")\n",
    "\n",
    "print(rf\"iris_feature_names: {iris_feature_names}\")\n",
    "print(rf\"iris_data[0]: {iris_data[0]}\")"
   ],
   "outputs": [
    {
     "output_type": "stream",
     "name": "stdout",
     "text": [
      "iris_target_names: ['setosa' 'versicolor' 'virginica']\n",
      "iris_target: [0 1 2]\n",
      "iris_feature_names: ['sepal length (cm)', 'sepal width (cm)', 'petal length (cm)', 'petal width (cm)']\n",
      "iris_data[0]: [5.1 3.5 1.4 0.2]\n"
     ]
    }
   ],
   "metadata": {}
  },
  {
   "cell_type": "code",
   "execution_count": 69,
   "source": [
    "class_count = len(iris_target_names)"
   ],
   "outputs": [],
   "metadata": {}
  },
  {
   "cell_type": "code",
   "execution_count": 141,
   "source": [
    "print(rf\"iris_target.dtype: {iris_target.dtype}\")\n",
    "\n",
    "iris_y = tf.keras.utils.to_categorical(y=iris_target, num_classes=class_count, dtype=iris_target.dtype)\n"
   ],
   "outputs": [
    {
     "output_type": "stream",
     "name": "stdout",
     "text": [
      "iris_target.dtype: int64\n"
     ]
    }
   ],
   "metadata": {}
  },
  {
   "cell_type": "code",
   "execution_count": 144,
   "source": [
    "print(iris_y[:10])"
   ],
   "outputs": [
    {
     "output_type": "stream",
     "name": "stdout",
     "text": [
      "[[1 0 0]\n",
      " [1 0 0]\n",
      " [1 0 0]\n",
      " [1 0 0]\n",
      " [1 0 0]\n",
      " [1 0 0]\n",
      " [1 0 0]\n",
      " [1 0 0]\n",
      " [1 0 0]\n",
      " [1 0 0]]\n"
     ]
    }
   ],
   "metadata": {}
  },
  {
   "cell_type": "code",
   "execution_count": 145,
   "source": [
    "seed = 0\n",
    "train_data, test_data, train_label, test_label = train_test_split(iris_data, iris_y, test_size=0.3, random_state=seed)"
   ],
   "outputs": [],
   "metadata": {}
  },
  {
   "cell_type": "code",
   "execution_count": 146,
   "source": [
    "print(rf\"train_data[0]: {train_data[0]}\")\n",
    "print(rf\"test_data[0]: {test_data[0]}\")\n"
   ],
   "outputs": [
    {
     "output_type": "stream",
     "name": "stdout",
     "text": [
      "train_data[0]: [5.  2.  3.5 1. ]\n",
      "test_data[0]: [5.8 2.8 5.1 2.4]\n"
     ]
    }
   ],
   "metadata": {}
  },
  {
   "cell_type": "code",
   "execution_count": 172,
   "source": [
    "model = tf.keras.models.Sequential([\n",
    "    tf.keras.layers.Input(4),\n",
    "    tf.keras.layers.Dense(100, activation=r'relu'),\n",
    "    tf.keras.layers.Dense(class_count, activation=r'softmax')\n",
    "])"
   ],
   "outputs": [],
   "metadata": {}
  },
  {
   "cell_type": "code",
   "execution_count": 173,
   "source": [
    "model.compile(optimizer=tf.keras.optimizers.Adam(learning_rate=0.01),\n",
    "              loss=r'categorical_crossentropy',\n",
    "              metrics=[r'accuracy'])"
   ],
   "outputs": [],
   "metadata": {}
  },
  {
   "cell_type": "code",
   "execution_count": 174,
   "source": [
    "model.fit(train_data,\n",
    "          train_label,\n",
    "          batch_size=32,\n",
    "          epochs=50,\n",
    "          validation_data=(test_data, test_label))"
   ],
   "outputs": [
    {
     "output_type": "stream",
     "name": "stdout",
     "text": [
      "Epoch 1/50\n",
      "4/4 [==============================] - 0s 42ms/step - loss: 1.1252 - accuracy: 0.3714 - val_loss: 1.1525 - val_accuracy: 0.2444\n",
      "Epoch 2/50\n",
      "4/4 [==============================] - 0s 9ms/step - loss: 0.8544 - accuracy: 0.5905 - val_loss: 0.6694 - val_accuracy: 0.7556\n",
      "Epoch 3/50\n",
      "4/4 [==============================] - 0s 8ms/step - loss: 0.7557 - accuracy: 0.6381 - val_loss: 0.6034 - val_accuracy: 0.6000\n",
      "Epoch 4/50\n",
      "4/4 [==============================] - 0s 7ms/step - loss: 0.6244 - accuracy: 0.6952 - val_loss: 0.7257 - val_accuracy: 0.6000\n",
      "Epoch 5/50\n",
      "4/4 [==============================] - 0s 9ms/step - loss: 0.5296 - accuracy: 0.6952 - val_loss: 0.4498 - val_accuracy: 0.9333\n",
      "Epoch 6/50\n",
      "4/4 [==============================] - 0s 8ms/step - loss: 0.4854 - accuracy: 0.7619 - val_loss: 0.4121 - val_accuracy: 0.8444\n",
      "Epoch 7/50\n",
      "4/4 [==============================] - 0s 8ms/step - loss: 0.4253 - accuracy: 0.9048 - val_loss: 0.4803 - val_accuracy: 0.6000\n",
      "Epoch 8/50\n",
      "4/4 [==============================] - 0s 10ms/step - loss: 0.4052 - accuracy: 0.7143 - val_loss: 0.4086 - val_accuracy: 0.7333\n",
      "Epoch 9/50\n",
      "4/4 [==============================] - 0s 7ms/step - loss: 0.3614 - accuracy: 0.9429 - val_loss: 0.3476 - val_accuracy: 0.9778\n",
      "Epoch 10/50\n",
      "4/4 [==============================] - 0s 8ms/step - loss: 0.3345 - accuracy: 0.9619 - val_loss: 0.3859 - val_accuracy: 0.7333\n",
      "Epoch 11/50\n",
      "4/4 [==============================] - 0s 8ms/step - loss: 0.3182 - accuracy: 0.8762 - val_loss: 0.3134 - val_accuracy: 0.9778\n",
      "Epoch 12/50\n",
      "4/4 [==============================] - 0s 7ms/step - loss: 0.3030 - accuracy: 0.9619 - val_loss: 0.2848 - val_accuracy: 0.9778\n",
      "Epoch 13/50\n",
      "4/4 [==============================] - 0s 7ms/step - loss: 0.2729 - accuracy: 0.9619 - val_loss: 0.3465 - val_accuracy: 0.7778\n",
      "Epoch 14/50\n",
      "4/4 [==============================] - 0s 7ms/step - loss: 0.2568 - accuracy: 0.9143 - val_loss: 0.2528 - val_accuracy: 0.9778\n",
      "Epoch 15/50\n",
      "4/4 [==============================] - 0s 8ms/step - loss: 0.2408 - accuracy: 0.9810 - val_loss: 0.2582 - val_accuracy: 0.9556\n",
      "Epoch 16/50\n",
      "4/4 [==============================] - 0s 7ms/step - loss: 0.2132 - accuracy: 0.9619 - val_loss: 0.2635 - val_accuracy: 0.9333\n",
      "Epoch 17/50\n",
      "4/4 [==============================] - 0s 8ms/step - loss: 0.2012 - accuracy: 0.9619 - val_loss: 0.2118 - val_accuracy: 0.9778\n",
      "Epoch 18/50\n",
      "4/4 [==============================] - 0s 7ms/step - loss: 0.1846 - accuracy: 0.9714 - val_loss: 0.2271 - val_accuracy: 0.9556\n",
      "Epoch 19/50\n",
      "4/4 [==============================] - 0s 8ms/step - loss: 0.1760 - accuracy: 0.9619 - val_loss: 0.1875 - val_accuracy: 0.9778\n",
      "Epoch 20/50\n",
      "4/4 [==============================] - 0s 9ms/step - loss: 0.1888 - accuracy: 0.9619 - val_loss: 0.1742 - val_accuracy: 0.9778\n",
      "Epoch 21/50\n",
      "4/4 [==============================] - 0s 6ms/step - loss: 0.1725 - accuracy: 0.9714 - val_loss: 0.2142 - val_accuracy: 0.9556\n",
      "Epoch 22/50\n",
      "4/4 [==============================] - 0s 5ms/step - loss: 0.1574 - accuracy: 0.9524 - val_loss: 0.1614 - val_accuracy: 0.9778\n",
      "Epoch 23/50\n",
      "4/4 [==============================] - 0s 6ms/step - loss: 0.1362 - accuracy: 0.9714 - val_loss: 0.2084 - val_accuracy: 0.9333\n",
      "Epoch 24/50\n",
      "4/4 [==============================] - 0s 7ms/step - loss: 0.1289 - accuracy: 0.9714 - val_loss: 0.1450 - val_accuracy: 0.9333\n",
      "Epoch 25/50\n",
      "4/4 [==============================] - 0s 5ms/step - loss: 0.1421 - accuracy: 0.9429 - val_loss: 0.1676 - val_accuracy: 0.9778\n",
      "Epoch 26/50\n",
      "4/4 [==============================] - 0s 7ms/step - loss: 0.1257 - accuracy: 0.9619 - val_loss: 0.1435 - val_accuracy: 0.9778\n",
      "Epoch 27/50\n",
      "4/4 [==============================] - 0s 6ms/step - loss: 0.1145 - accuracy: 0.9810 - val_loss: 0.1396 - val_accuracy: 0.9778\n",
      "Epoch 28/50\n",
      "4/4 [==============================] - 0s 5ms/step - loss: 0.1062 - accuracy: 0.9810 - val_loss: 0.1741 - val_accuracy: 0.9556\n",
      "Epoch 29/50\n",
      "4/4 [==============================] - 0s 6ms/step - loss: 0.1129 - accuracy: 0.9619 - val_loss: 0.1346 - val_accuracy: 0.9778\n",
      "Epoch 30/50\n",
      "4/4 [==============================] - 0s 7ms/step - loss: 0.1025 - accuracy: 0.9714 - val_loss: 0.1246 - val_accuracy: 0.9778\n",
      "Epoch 31/50\n",
      "4/4 [==============================] - 0s 5ms/step - loss: 0.1032 - accuracy: 0.9810 - val_loss: 0.1193 - val_accuracy: 0.9778\n",
      "Epoch 32/50\n",
      "4/4 [==============================] - 0s 6ms/step - loss: 0.0903 - accuracy: 0.9714 - val_loss: 0.1667 - val_accuracy: 0.9556\n",
      "Epoch 33/50\n",
      "4/4 [==============================] - 0s 7ms/step - loss: 0.1088 - accuracy: 0.9619 - val_loss: 0.1517 - val_accuracy: 0.9556\n",
      "Epoch 34/50\n",
      "4/4 [==============================] - 0s 5ms/step - loss: 0.0988 - accuracy: 0.9714 - val_loss: 0.1255 - val_accuracy: 0.9778\n",
      "Epoch 35/50\n",
      "4/4 [==============================] - 0s 7ms/step - loss: 0.0920 - accuracy: 0.9619 - val_loss: 0.1432 - val_accuracy: 0.9556\n",
      "Epoch 36/50\n",
      "4/4 [==============================] - 0s 7ms/step - loss: 0.0865 - accuracy: 0.9619 - val_loss: 0.1054 - val_accuracy: 0.9778\n",
      "Epoch 37/50\n",
      "4/4 [==============================] - 0s 6ms/step - loss: 0.0944 - accuracy: 0.9619 - val_loss: 0.1188 - val_accuracy: 0.9778\n",
      "Epoch 38/50\n",
      "4/4 [==============================] - 0s 7ms/step - loss: 0.0862 - accuracy: 0.9714 - val_loss: 0.1713 - val_accuracy: 0.9556\n",
      "Epoch 39/50\n",
      "4/4 [==============================] - 0s 6ms/step - loss: 0.0880 - accuracy: 0.9619 - val_loss: 0.1016 - val_accuracy: 0.9778\n",
      "Epoch 40/50\n",
      "4/4 [==============================] - 0s 6ms/step - loss: 0.0827 - accuracy: 0.9810 - val_loss: 0.1262 - val_accuracy: 0.9778\n",
      "Epoch 41/50\n",
      "4/4 [==============================] - 0s 6ms/step - loss: 0.0822 - accuracy: 0.9619 - val_loss: 0.1044 - val_accuracy: 0.9778\n",
      "Epoch 42/50\n",
      "4/4 [==============================] - 0s 6ms/step - loss: 0.0920 - accuracy: 0.9619 - val_loss: 0.1010 - val_accuracy: 0.9778\n",
      "Epoch 43/50\n",
      "4/4 [==============================] - 0s 7ms/step - loss: 0.0824 - accuracy: 0.9619 - val_loss: 0.1741 - val_accuracy: 0.9333\n",
      "Epoch 44/50\n",
      "4/4 [==============================] - 0s 7ms/step - loss: 0.0669 - accuracy: 0.9810 - val_loss: 0.1024 - val_accuracy: 0.9333\n",
      "Epoch 45/50\n",
      "4/4 [==============================] - 0s 5ms/step - loss: 0.1046 - accuracy: 0.9429 - val_loss: 0.1021 - val_accuracy: 0.9778\n",
      "Epoch 46/50\n",
      "4/4 [==============================] - 0s 6ms/step - loss: 0.0698 - accuracy: 0.9714 - val_loss: 0.1250 - val_accuracy: 0.9778\n",
      "Epoch 47/50\n",
      "4/4 [==============================] - 0s 6ms/step - loss: 0.0784 - accuracy: 0.9619 - val_loss: 0.1362 - val_accuracy: 0.9556\n",
      "Epoch 48/50\n",
      "4/4 [==============================] - 0s 6ms/step - loss: 0.0686 - accuracy: 0.9714 - val_loss: 0.0904 - val_accuracy: 0.9778\n",
      "Epoch 49/50\n",
      "4/4 [==============================] - 0s 6ms/step - loss: 0.0773 - accuracy: 0.9810 - val_loss: 0.1133 - val_accuracy: 0.9778\n",
      "Epoch 50/50\n",
      "4/4 [==============================] - 0s 14ms/step - loss: 0.0865 - accuracy: 0.9619 - val_loss: 0.1103 - val_accuracy: 0.9778\n"
     ]
    },
    {
     "output_type": "execute_result",
     "data": {
      "text/plain": [
       "<keras.callbacks.History at 0x7f28c449d9e8>"
      ]
     },
     "metadata": {},
     "execution_count": 174
    }
   ],
   "metadata": {}
  },
  {
   "cell_type": "code",
   "execution_count": 175,
   "source": [
    "test_loss, test_acc = model.evaluate(test_data, test_label, verbose=2)\n",
    "\n",
    "print('Test Loss:', test_loss)\n",
    "print('Test accuracy:', test_acc)"
   ],
   "outputs": [
    {
     "output_type": "stream",
     "name": "stdout",
     "text": [
      "2/2 - 0s - loss: 0.1103 - accuracy: 0.9778\n",
      "Test Loss: 0.11032174527645111\n",
      "Test accuracy: 0.9777777791023254\n"
     ]
    }
   ],
   "metadata": {}
  },
  {
   "cell_type": "code",
   "execution_count": 176,
   "source": [
    "test_predictions = model.predict(test_data)"
   ],
   "outputs": [],
   "metadata": {}
  },
  {
   "cell_type": "code",
   "execution_count": 177,
   "source": [
    "predict_index = 10\n",
    "\n",
    "print(\"test_predictions[predict_index]\", test_predictions[predict_index])\n",
    "print(\"test_label[predict_index]\", test_label[predict_index])"
   ],
   "outputs": [
    {
     "output_type": "stream",
     "name": "stdout",
     "text": [
      "test_predictions[predict_index] [7.8702524e-06 3.8228121e-02 9.6176404e-01]\n",
      "test_label[predict_index] [0 0 1]\n"
     ]
    }
   ],
   "metadata": {}
  }
 ],
 "metadata": {
  "orig_nbformat": 4,
  "language_info": {
   "name": "python",
   "version": "3.6.9",
   "mimetype": "text/x-python",
   "codemirror_mode": {
    "name": "ipython",
    "version": 3
   },
   "pygments_lexer": "ipython3",
   "nbconvert_exporter": "python",
   "file_extension": ".py"
  },
  "kernelspec": {
   "name": "python3",
   "display_name": "Python 3.6.9 64-bit"
  },
  "interpreter": {
   "hash": "31f2aee4e71d21fbe5cf8b01ff0e069b9275f58929596ceb00d14d90e3e16cd6"
  }
 },
 "nbformat": 4,
 "nbformat_minor": 2
}