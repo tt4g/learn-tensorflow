{
 "cells": [
  {
   "cell_type": "code",
   "execution_count": null,
   "metadata": {},
   "outputs": [],
   "source": [
    "#@title Licensed under the Apache License, Version 2.0 (the \"License\");\n",
    "# you may not use this file except in compliance with the License.\n",
    "# You may obtain a copy of the License at\n",
    "#\n",
    "# https://www.apache.org/licenses/LICENSE-2.0\n",
    "#\n",
    "# Unless required by applicable law or agreed to in writing, software\n",
    "# distributed under the License is distributed on an \"AS IS\" BASIS,\n",
    "# WITHOUT WARRANTIES OR CONDITIONS OF ANY KIND, either express or implied.\n",
    "# See the License for the specific language governing permissions and\n",
    "# limitations under the License."
   ]
  },
  {
   "cell_type": "markdown",
   "metadata": {},
   "source": [
    "# Training checkpoints\n",
    "\n",
    "The phrase \"Saving a TensorFlow model\" typically means one of two things:\n",
    "\n",
    "1. Checkpoints, OR\n",
    "2. SavedModel.\n",
    "\n",
    "Checkpoints capture the exact value of all parameters (`tf.Variable objects`) used by a model. Checkpoints do not contain any description of the computation defined by the model and thus are typically only useful when source code that will use the saved parameter values is available.\n",
    "\n",
    "The SavedModel format on the other hand includes a serialized description of the computation defined by the model in addition to the parameter values (checkpoint). Models in this format are independent of the source code that created the model. They are thus suitable for deployment via TensorFlow Serving, TensorFlow Lite, TensorFlow.js, or programs in other programming languages (the C, C++, Java, Go, Rust, C# etc. TensorFlow APIs).\n",
    "\n",
    "This guide covers APIs for writing and reading checkpoints."
   ]
  },
  {
   "cell_type": "markdown",
   "metadata": {},
   "source": [
    "## Setup"
   ]
  },
  {
   "cell_type": "code",
   "execution_count": 1,
   "metadata": {},
   "outputs": [],
   "source": [
    "import tensorflow as tf"
   ]
  },
  {
   "cell_type": "code",
   "execution_count": 2,
   "metadata": {},
   "outputs": [],
   "source": [
    "class Net(tf.keras.Model):\n",
    "  \"\"\"A simple linear model.\"\"\"\n",
    "\n",
    "  def __init__(self):\n",
    "    super(Net, self).__init__()\n",
    "    self.l1 = tf.keras.layers.Dense(5)\n",
    "\n",
    "  def call(self, x):\n",
    "    return self.l1(x)"
   ]
  },
  {
   "cell_type": "code",
   "execution_count": 3,
   "metadata": {},
   "outputs": [],
   "source": [
    "net = Net()"
   ]
  },
  {
   "cell_type": "markdown",
   "metadata": {},
   "source": [
    "## Saving from `tf.keras` training APIs\n",
    "\n",
    "See the `tf.keras` guide on saving and restoring.\n",
    "\n",
    "`tf.keras.Model.save_weights` saves a TensorFlow checkpoint."
   ]
  },
  {
   "cell_type": "code",
   "execution_count": 4,
   "metadata": {},
   "outputs": [],
   "source": [
    "net.save_weights('easy_checkpoint')"
   ]
  },
  {
   "cell_type": "markdown",
   "metadata": {},
   "source": [
    "## Writing checkpoints\n",
    "\n",
    "The persistent state of a TensorFlow model is stored in `tf.Variable` objects. These can be constructed directly, but are often created through high-level APIs like `tf.keras.layers` or `tf.keras.Model`.\n",
    "\n",
    "The easiest way to manage variables is by attaching them to Python objects, then referencing those objects.\n",
    "\n",
    "Subclasses of `tf.train.Checkpoint`, `tf.keras.layers.Layer`, and `tf.keras.Model` automatically track variables assigned to their attributes. The following example constructs a simple linear model, then writes checkpoints which contain values for all of the model's variables.\n",
    "\n",
    "You can easily save a model-checkpoint with `Model.save_weights`."
   ]
  },
  {
   "cell_type": "markdown",
   "metadata": {},
   "source": [
    "### Manual checkpointing"
   ]
  },
  {
   "cell_type": "markdown",
   "metadata": {},
   "source": [
    "#### Setup\n",
    "\n",
    "To help demonstrate all the features of `tf.train.Checkpoint`, define a toy dataset and optimization step:"
   ]
  },
  {
   "cell_type": "code",
   "execution_count": 5,
   "metadata": {},
   "outputs": [],
   "source": [
    "def toy_dataset():\n",
    "  inputs = tf.range(10.)[:, None]\n",
    "  labels = inputs * 5. + tf.range(5.)[None, :]\n",
    "  return tf.data.Dataset.from_tensor_slices(\n",
    "    dict(x=inputs, y=labels)).repeat().batch(2)"
   ]
  },
  {
   "cell_type": "code",
   "execution_count": 6,
   "metadata": {},
   "outputs": [],
   "source": [
    "def train_step(net, example, optimizer):\n",
    "  \"\"\"Trains `net` on `example` using `optimizer`.\"\"\"\n",
    "  with tf.GradientTape() as tape:\n",
    "    output = net(example['x'])\n",
    "    loss = tf.reduce_mean(tf.abs(output - example['y']))\n",
    "  variables = net.trainable_variables\n",
    "  gradients = tape.gradient(loss, variables)\n",
    "  optimizer.apply_gradients(zip(gradients, variables))\n",
    "  return loss"
   ]
  },
  {
   "cell_type": "markdown",
   "metadata": {},
   "source": [
    "#### Create the checkpoint objects\n",
    "\n",
    "Use a `tf.train.Checkpoint` object to manually create a checkpoint, where the objects you want to checkpoint are set as attributes on the object.\n",
    "\n",
    "A `tf.train.CheckpointManager` can also be helpful for managing multiple checkpoints."
   ]
  },
  {
   "cell_type": "code",
   "execution_count": 7,
   "metadata": {},
   "outputs": [],
   "source": [
    "opt = tf.keras.optimizers.Adam(0.1)\n",
    "dataset = toy_dataset()\n",
    "iterator = iter(dataset)\n",
    "ckpt = tf.train.Checkpoint(step=tf.Variable(1), optimizer=opt, net=net, iterator=iterator)\n",
    "manager = tf.train.CheckpointManager(ckpt, './tf_ckpts', max_to_keep=3)"
   ]
  },
  {
   "cell_type": "markdown",
   "metadata": {},
   "source": [
    "#### Train and checkpoint the model\n",
    "\n",
    "The following training loop creates an instance of the model and of an optimizer, then gathers them into a `tf.train.Checkpoint` object. It calls the training step in a loop on each batch of data, and periodically writes checkpoints to disk."
   ]
  },
  {
   "cell_type": "code",
   "execution_count": 8,
   "metadata": {},
   "outputs": [],
   "source": [
    "def train_and_checkpoint(net, manager):\n",
    "  ckpt.restore(manager.latest_checkpoint)\n",
    "  if manager.latest_checkpoint:\n",
    "    print(\"Restored from {}\".format(manager.latest_checkpoint))\n",
    "  else:\n",
    "    print(\"Initializing from scratch.\")\n",
    "\n",
    "  for _ in range(50):\n",
    "    example = next(iterator)\n",
    "    loss = train_step(net, example, opt)\n",
    "    ckpt.step.assign_add(1)\n",
    "    if int(ckpt.step) % 10 == 0:\n",
    "      save_path = manager.save()\n",
    "      print(\"Saved checkpoint for step {}: {}\".format(int(ckpt.step), save_path))\n",
    "      print(\"loss {:1.2f}\".format(loss.numpy()))"
   ]
  },
  {
   "cell_type": "code",
   "execution_count": 9,
   "metadata": {},
   "outputs": [
    {
     "name": "stdout",
     "output_type": "stream",
     "text": [
      "Initializing from scratch.\n",
      "Saved checkpoint for step 10: ./tf_ckpts/ckpt-1\n",
      "loss 28.15\n",
      "Saved checkpoint for step 20: ./tf_ckpts/ckpt-2\n",
      "loss 21.57\n",
      "Saved checkpoint for step 30: ./tf_ckpts/ckpt-3\n",
      "loss 15.02\n",
      "Saved checkpoint for step 40: ./tf_ckpts/ckpt-4\n",
      "loss 8.60\n",
      "Saved checkpoint for step 50: ./tf_ckpts/ckpt-5\n",
      "loss 3.69\n"
     ]
    }
   ],
   "source": [
    "train_and_checkpoint(net, manager)"
   ]
  },
  {
   "cell_type": "markdown",
   "metadata": {},
   "source": [
    "#### Restore and continue training\n",
    "\n",
    "After the first training cycle you can pass a new model and manager, but pick up training exactly where you left off:"
   ]
  },
  {
   "cell_type": "code",
   "execution_count": 10,
   "metadata": {},
   "outputs": [
    {
     "name": "stdout",
     "output_type": "stream",
     "text": [
      "Restored from ./tf_ckpts/ckpt-5\n",
      "Saved checkpoint for step 60: ./tf_ckpts/ckpt-6\n",
      "loss 0.76\n",
      "Saved checkpoint for step 70: ./tf_ckpts/ckpt-7\n",
      "loss 0.68\n",
      "Saved checkpoint for step 80: ./tf_ckpts/ckpt-8\n",
      "loss 0.53\n",
      "Saved checkpoint for step 90: ./tf_ckpts/ckpt-9\n",
      "loss 0.27\n",
      "Saved checkpoint for step 100: ./tf_ckpts/ckpt-10\n",
      "loss 0.14\n"
     ]
    }
   ],
   "source": [
    "opt = tf.keras.optimizers.Adam(0.1)\n",
    "net = Net()\n",
    "dataset = toy_dataset()\n",
    "iterator = iter(dataset)\n",
    "ckpt = tf.train.Checkpoint(step=tf.Variable(1), optimizer=opt, net=net, iterator=iterator)\n",
    "manager = tf.train.CheckpointManager(ckpt, './tf_ckpts', max_to_keep=3)\n",
    "\n",
    "train_and_checkpoint(net, manager)"
   ]
  },
  {
   "cell_type": "markdown",
   "metadata": {},
   "source": [
    "The `tf.train.CheckpointManager` object deletes old checkpoints. Above it's configured to keep only the three most recent checkpoints."
   ]
  },
  {
   "cell_type": "code",
   "execution_count": 11,
   "metadata": {},
   "outputs": [
    {
     "name": "stdout",
     "output_type": "stream",
     "text": [
      "['./tf_ckpts/ckpt-8', './tf_ckpts/ckpt-9', './tf_ckpts/ckpt-10']\n"
     ]
    }
   ],
   "source": [
    "print(manager.checkpoints)  # List the three remaining checkpoints"
   ]
  },
  {
   "cell_type": "markdown",
   "metadata": {},
   "source": [
    "These paths, e.g. `'./tf_ckpts/ckpt-10'`, are not files on disk. Instead they are prefixes for an `index` file and one or more data files which contain the variable values. These prefixes are grouped together in a single `checkpoint` file (`'./tf_ckpts/checkpoint'`) where the `CheckpointManager` saves its state.\n",
    "\n",
    "```shell\n",
    "$ ls ./tf_ckpts\n",
    "checkpoint  ckpt-10.data-00000-of-00001  ckpt-10.index  ckpt-8.data-00000-of-00001  ckpt-8.index  ckpt-9.data-00000-of-00001  ckpt-9.index\n",
    "```"
   ]
  },
  {
   "cell_type": "markdown",
   "metadata": {},
   "source": [
    "## Loading mechanics\n",
    "\n",
    "TensorFlow matches variables to checkpointed values by traversing a directed graph with named edges, starting from the object being loaded. Edge names typically come from attribute names in objects, for example the `\"l1\"` in `self.l1 = tf.keras.layers.Dense(5)`. `tf.train.Checkpoint` uses its keyword argument names, as in the `\"step\"` in `tf.train.Checkpoint(step=...)`.\n",
    "\n",
    "Calling restore on a `tf.train.Checkpoint` object queues the requested restorations, restoring variable values as soon as there's a matching path from the Checkpoint object. For example, you can load just the bias from the model you defined above by reconstructing one path to it through the network and the layer."
   ]
  },
  {
   "cell_type": "code",
   "execution_count": 12,
   "metadata": {},
   "outputs": [
    {
     "name": "stdout",
     "output_type": "stream",
     "text": [
      "[0. 0. 0. 0. 0.]\n",
      "[1.5833712 2.7766278 4.0300865 3.1280525 4.4104495]\n"
     ]
    }
   ],
   "source": [
    "to_restore = tf.Variable(tf.zeros([5]))\n",
    "print(to_restore.numpy())  # All zeros\n",
    "fake_layer = tf.train.Checkpoint(bias=to_restore)\n",
    "fake_net = tf.train.Checkpoint(l1=fake_layer)\n",
    "new_root = tf.train.Checkpoint(net=fake_net)\n",
    "status = new_root.restore(tf.train.latest_checkpoint('./tf_ckpts/'))\n",
    "print(to_restore.numpy())  # This gets the restored value."
   ]
  },
  {
   "cell_type": "markdown",
   "metadata": {},
   "source": [
    "The dependency graph for these new objects is a much smaller subgraph of the larger checkpoint you wrote above. It includes only the bias and a save counter that `tf.train.Checkpoint` uses to number checkpoints."
   ]
  },
  {
   "cell_type": "markdown",
   "metadata": {},
   "source": [
    "`restore` returns a status object, which has optional assertions. All of the objects created in the new `Checkpoint` have been restored, so status.`assert_existing_objects_matched` passes."
   ]
  },
  {
   "cell_type": "code",
   "execution_count": 13,
   "metadata": {},
   "outputs": [
    {
     "data": {
      "text/plain": [
       "<tensorflow.python.training.tracking.util.CheckpointLoadStatus at 0x7f32486b7f70>"
      ]
     },
     "execution_count": 13,
     "metadata": {},
     "output_type": "execute_result"
    }
   ],
   "source": [
    "status.assert_existing_objects_matched()"
   ]
  },
  {
   "cell_type": "markdown",
   "metadata": {},
   "source": [
    "There are many objects in the checkpoint which haven't matched, including the layer's kernel and the optimizer's variables. `status.assert_consumed` only passes if the checkpoint and the program match exactly, and would throw an exception here."
   ]
  },
  {
   "cell_type": "markdown",
   "metadata": {},
   "source": [
    "### Delayed restorations\n",
    "\n",
    "`Layer` objects in TensorFlow may delay the creation of variables to their first call, when input shapes are available. For example the shape of a `Dense` layer's kernel depends on both the layer's input and output shapes, and so the output shape required as a constructor argument is not enough information to create the variable on its own. Since calling a Layer also reads the variable's value, a restore must happen between the variable's creation and its first use.\n",
    "\n",
    "To support this idiom, `tf.train.Checkpoint` queues restores which don't yet have a matching variable."
   ]
  },
  {
   "cell_type": "code",
   "execution_count": 14,
   "metadata": {},
   "outputs": [
    {
     "name": "stdout",
     "output_type": "stream",
     "text": [
      "[[0. 0. 0. 0. 0.]]\n",
      "[[4.7460585 4.6870565 4.6964383 5.002225  4.9545174]]\n"
     ]
    }
   ],
   "source": [
    "delayed_restore = tf.Variable(tf.zeros([1, 5]))\n",
    "print(delayed_restore.numpy())  # Not restored; still zeros\n",
    "fake_layer.kernel = delayed_restore\n",
    "print(delayed_restore.numpy())  # Restored"
   ]
  },
  {
   "cell_type": "markdown",
   "metadata": {},
   "source": [
    "### Manually inspecting checkpoints\n",
    "\n",
    "`tf.train.load_checkpoint` returns a `CheckpointReader` that gives lower level access to the checkpoint contents. It contains mappings from each variable's key, to the shape and dtype for each variable in the checkpoint. A variable's key is its object path, like in the graphs displayed above.\n"
   ]
  },
  {
   "cell_type": "code",
   "execution_count": 15,
   "metadata": {},
   "outputs": [
    {
     "data": {
      "text/plain": [
       "['_CHECKPOINTABLE_OBJECT_GRAPH',\n",
       " 'iterator/.ATTRIBUTES/ITERATOR_STATE',\n",
       " 'net/l1/bias/.ATTRIBUTES/VARIABLE_VALUE',\n",
       " 'net/l1/bias/.OPTIMIZER_SLOT/optimizer/m/.ATTRIBUTES/VARIABLE_VALUE',\n",
       " 'net/l1/bias/.OPTIMIZER_SLOT/optimizer/v/.ATTRIBUTES/VARIABLE_VALUE',\n",
       " 'net/l1/kernel/.ATTRIBUTES/VARIABLE_VALUE',\n",
       " 'net/l1/kernel/.OPTIMIZER_SLOT/optimizer/m/.ATTRIBUTES/VARIABLE_VALUE',\n",
       " 'net/l1/kernel/.OPTIMIZER_SLOT/optimizer/v/.ATTRIBUTES/VARIABLE_VALUE',\n",
       " 'optimizer/beta_1/.ATTRIBUTES/VARIABLE_VALUE',\n",
       " 'optimizer/beta_2/.ATTRIBUTES/VARIABLE_VALUE',\n",
       " 'optimizer/decay/.ATTRIBUTES/VARIABLE_VALUE',\n",
       " 'optimizer/iter/.ATTRIBUTES/VARIABLE_VALUE',\n",
       " 'optimizer/learning_rate/.ATTRIBUTES/VARIABLE_VALUE',\n",
       " 'save_counter/.ATTRIBUTES/VARIABLE_VALUE',\n",
       " 'step/.ATTRIBUTES/VARIABLE_VALUE']"
      ]
     },
     "execution_count": 15,
     "metadata": {},
     "output_type": "execute_result"
    }
   ],
   "source": [
    "reader = tf.train.load_checkpoint('./tf_ckpts/')\n",
    "shape_from_key = reader.get_variable_to_shape_map()\n",
    "dtype_from_key = reader.get_variable_to_dtype_map()\n",
    "\n",
    "sorted(shape_from_key.keys())"
   ]
  },
  {
   "cell_type": "markdown",
   "metadata": {},
   "source": [
    "So if you're interested in the value of `net.l1.kernel` you can get the value with the following code:"
   ]
  },
  {
   "cell_type": "code",
   "execution_count": 16,
   "metadata": {},
   "outputs": [
    {
     "name": "stdout",
     "output_type": "stream",
     "text": [
      "Shape: [1, 5]\n",
      "Dtype: float32\n"
     ]
    }
   ],
   "source": [
    "key = 'net/l1/kernel/.ATTRIBUTES/VARIABLE_VALUE'\n",
    "\n",
    "print(\"Shape:\", shape_from_key[key])\n",
    "print(\"Dtype:\", dtype_from_key[key].name)"
   ]
  },
  {
   "cell_type": "markdown",
   "metadata": {},
   "source": [
    "It also provides a `get_tensor` method allowing you to inspect the value of a variable:"
   ]
  },
  {
   "cell_type": "code",
   "execution_count": 17,
   "metadata": {},
   "outputs": [
    {
     "data": {
      "text/plain": [
       "array([[4.7460585, 4.6870565, 4.6964383, 5.002225 , 4.9545174]],\n",
       "      dtype=float32)"
      ]
     },
     "execution_count": 17,
     "metadata": {},
     "output_type": "execute_result"
    }
   ],
   "source": [
    "reader.get_tensor(key)"
   ]
  },
  {
   "cell_type": "markdown",
   "metadata": {},
   "source": [
    "### List and dictionary tracking\n",
    "\n",
    "As with direct attribute assignments like `self.l1 = tf.keras.layers.Dense(5)`, assigning lists and dictionaries to attributes will track their contents."
   ]
  },
  {
   "cell_type": "code",
   "execution_count": 18,
   "metadata": {},
   "outputs": [],
   "source": [
    "save = tf.train.Checkpoint()\n",
    "save.listed = [tf.Variable(1.)]\n",
    "save.listed.append(tf.Variable(2.))\n",
    "save.mapped = {'one': save.listed[0]}\n",
    "save.mapped['two'] = save.listed[1]\n",
    "save_path = save.save('./tf_list_example')\n",
    "\n",
    "restore = tf.train.Checkpoint()\n",
    "v2 = tf.Variable(0.)\n",
    "assert 0. == v2.numpy()  # Not restored yet\n",
    "restore.mapped = {'two': v2}\n",
    "restore.restore(save_path)\n",
    "assert 2. == v2.numpy()"
   ]
  },
  {
   "cell_type": "markdown",
   "metadata": {},
   "source": [
    "You may notice wrapper objects for lists and dictionaries. These wrappers are checkpointable versions of the underlying data-structures. Just like the attribute based loading, these wrappers restore a variable's value as soon as it's added to the container."
   ]
  },
  {
   "cell_type": "code",
   "execution_count": 19,
   "metadata": {},
   "outputs": [
    {
     "name": "stdout",
     "output_type": "stream",
     "text": [
      "ListWrapper([])\n"
     ]
    }
   ],
   "source": [
    "restore.listed = []\n",
    "print(restore.listed)  # ListWrapper([])\n",
    "v1 = tf.Variable(0.)\n",
    "restore.listed.append(v1)  # Restores v1, from restore() in the previous cell\n",
    "assert 1. == v1.numpy()"
   ]
  },
  {
   "cell_type": "markdown",
   "metadata": {},
   "source": [
    "The same tracking is automatically applied to subclasses of `tf.keras.Model`, and may be used for example to track lists of layers."
   ]
  },
  {
   "cell_type": "markdown",
   "metadata": {},
   "source": [
    "## Summary\n",
    "\n",
    "TensorFlow objects provide an easy automatic mechanism for saving and restoring the values of variables they use.\n"
   ]
  }
 ],
 "metadata": {
  "interpreter": {
   "hash": "916dbcbb3f70747c44a77c7bcd40155683ae19c65e1c03b4aa3499c5328201f1"
  },
  "kernelspec": {
   "display_name": "Python 3.8.10 64-bit",
   "language": "python",
   "name": "python3"
  },
  "language_info": {
   "codemirror_mode": {
    "name": "ipython",
    "version": 3
   },
   "file_extension": ".py",
   "mimetype": "text/x-python",
   "name": "python",
   "nbconvert_exporter": "python",
   "pygments_lexer": "ipython3",
   "version": "3.8.10"
  },
  "orig_nbformat": 4
 },
 "nbformat": 4,
 "nbformat_minor": 2
}
